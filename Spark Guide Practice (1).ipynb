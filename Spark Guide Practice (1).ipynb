{
 "cells": [
  {
   "cell_type": "markdown",
   "metadata": {
    "application/vnd.databricks.v1+cell": {
     "cellMetadata": {},
     "inputWidgets": {},
     "nuid": "a3637b8a-e49e-49b5-9ba2-3f8c79778875",
     "showTitle": false,
     "tableResultSettingsMap": {},
     "title": ""
    }
   },
   "source": [
    "first we need to create the Compute in the so cluster is created and and then go to catolog in the panale and upload the csv file from  https://github.com/databricks/Spark-The-Definitive-Guide/blob/master/data/flight-data/csv/2015-summary.csv.\n",
    "\n",
    "come to Workspace and create a notebook and rename it"
   ]
  },
  {
   "cell_type": "markdown",
   "metadata": {
    "application/vnd.databricks.v1+cell": {
     "cellMetadata": {},
     "inputWidgets": {},
     "nuid": "7725cfc0-d927-4d5b-bc40-381c9363c8b9",
     "showTitle": false,
     "tableResultSettingsMap": {},
     "title": ""
    }
   },
   "source": [
    "# Reading Data"
   ]
  },
  {
   "cell_type": "markdown",
   "metadata": {
    "application/vnd.databricks.v1+cell": {
     "cellMetadata": {},
     "inputWidgets": {},
     "nuid": "6327f096-cf51-4518-b4d8-0cc7afa8738b",
     "showTitle": false,
     "tableResultSettingsMap": {},
     "title": ""
    }
   },
   "source": [
    "for reading the file in spark -  Dataframreader associate with sparksession is used. here we want spark to do the schema inference i.e spark will give a best guess of the schema of our dataframe. also specify that First rwo is header. \n",
    "- Read the CSV file into a Spark DataFrame.\n",
    "- Infer the schema (data types of columns) automatically."
   ]
  },
  {
   "cell_type": "markdown",
   "metadata": {
    "application/vnd.databricks.v1+cell": {
     "cellMetadata": {},
     "inputWidgets": {},
     "nuid": "4d3ec67f-a204-46ce-a757-fae5c6d9845b",
     "showTitle": false,
     "tableResultSettingsMap": {},
     "title": ""
    }
   },
   "source": [
    "#### Reading the CSV File into a DataFrame"
   ]
  },
  {
   "cell_type": "code",
   "execution_count": 0,
   "metadata": {
    "application/vnd.databricks.v1+cell": {
     "cellMetadata": {
      "byteLimit": 2048000,
      "rowLimit": 10000
     },
     "inputWidgets": {},
     "nuid": "4f2c173f-9ab9-4386-b036-d7379468614c",
     "showTitle": false,
     "tableResultSettingsMap": {},
     "title": ""
    }
   },
   "outputs": [
    {
     "output_type": "stream",
     "name": "stdout",
     "output_type": "stream",
     "text": [
      "Out[2]: [FileInfo(path='dbfs:/FileStore/tables/2015_summary.csv', name='2015_summary.csv', size=7080, modificationTime=1741666214000),\n FileInfo(path='dbfs:/FileStore/tables/BigMart_Sales-1.csv', name='BigMart_Sales-1.csv', size=869537, modificationTime=1740727435000),\n FileInfo(path='dbfs:/FileStore/tables/BigMart_Sales.csv', name='BigMart_Sales.csv', size=869537, modificationTime=1740138394000),\n FileInfo(path='dbfs:/FileStore/tables/drivers.json', name='drivers.json', size=180812, modificationTime=1740139360000)]"
     ]
    }
   ],
   "source": [
    "dbutils.fs.ls('/FileStore/tables')"
   ]
  },
  {
   "cell_type": "code",
   "execution_count": 0,
   "metadata": {
    "application/vnd.databricks.v1+cell": {
     "cellMetadata": {
      "byteLimit": 2048000,
      "rowLimit": 10000
     },
     "inputWidgets": {},
     "nuid": "6a9804f5-b856-4d6c-9531-e8e7d61d3f10",
     "showTitle": false,
     "tableResultSettingsMap": {},
     "title": ""
    }
   },
   "outputs": [],
   "source": [
    "df=spark.read.format('csv')\\\n",
    "    .option('inferschema', True)\\\n",
    "        .option('header',True)\\\n",
    "            .load('dbfs:/FileStore/tables/2015_summary.csv')\n",
    "#When we read the data into a DataFrame, Spark does not immediately process it. It just creates a plan to process it later."
   ]
  },
  {
   "cell_type": "markdown",
   "metadata": {
    "application/vnd.databricks.v1+cell": {
     "cellMetadata": {},
     "inputWidgets": {},
     "nuid": "82123999-d846-4f14-9348-776dfc74636d",
     "showTitle": false,
     "tableResultSettingsMap": {},
     "title": ""
    }
   },
   "source": [
    ">  Another way for reading the file. directly mentioning csv in the code."
   ]
  },
  {
   "cell_type": "code",
   "execution_count": 0,
   "metadata": {
    "application/vnd.databricks.v1+cell": {
     "cellMetadata": {
      "byteLimit": 2048000,
      "rowLimit": 10000
     },
     "inputWidgets": {},
     "nuid": "2cd920e6-fe56-4fd3-9a75-2d734f870f48",
     "showTitle": false,
     "tableResultSettingsMap": {},
     "title": ""
    }
   },
   "outputs": [],
   "source": [
    "flightData2015 = spark\\\n",
    "    .read\\\n",
    "    .option(\"inferSchema\", True)\\\n",
    "    .option(\"header\", True)\\\n",
    "    .csv(\"dbfs:/FileStore/tables/2015_summary.csv\")  \n",
    "#When we read the data into a DataFrame, Spark does not immediately process it. It just creates a plan to process it later."
   ]
  },
  {
   "cell_type": "markdown",
   "metadata": {
    "application/vnd.databricks.v1+cell": {
     "cellMetadata": {},
     "inputWidgets": {},
     "nuid": "1ecf3125-da29-4fe6-b004-f36a08fe6390",
     "showTitle": false,
     "tableResultSettingsMap": {},
     "title": ""
    }
   },
   "source": [
    "\n",
    "- **spark.read** → Creates a DataFrameReader to read data.\n",
    "- **.option(\"inferSchema\", \"true\")** → Enables schema inference, meaning Spark will automatically guess the data types of columns.\n",
    "- **.option(\"header\", \"true\")** → Specifies that the first row contains column names.\n",
    "- **.csv(\"/data/flight-data/csv/2015-summary.csv\")** → Reads the CSV file into a DataFrame"
   ]
  },
  {
   "cell_type": "markdown",
   "metadata": {
    "application/vnd.databricks.v1+cell": {
     "cellMetadata": {},
     "inputWidgets": {},
     "nuid": "7a25e767-0b98-4f42-b059-2787f1f0aa19",
     "showTitle": false,
     "tableResultSettingsMap": {},
     "title": ""
    }
   },
   "source": [
    "\n",
    "schema inference is important because it helps spark to  improve performance because Spark can use optimized operations for numbers, dates, etc. However, in production systems, it's recommended to manually define the schema for better accuracy and consistency.\n"
   ]
  },
  {
   "cell_type": "code",
   "execution_count": 0,
   "metadata": {
    "application/vnd.databricks.v1+cell": {
     "cellMetadata": {
      "byteLimit": 2048000,
      "rowLimit": 10000
     },
     "inputWidgets": {},
     "nuid": "d3438c3b-35d3-4249-b300-352da6582397",
     "showTitle": false,
     "tableResultSettingsMap": {},
     "title": ""
    }
   },
   "outputs": [
    {
     "output_type": "stream",
     "name": "stdout",
     "output_type": "stream",
     "text": [
      "+-----------------+-------------------+-----+\n|DEST_COUNTRY_NAME|ORIGIN_COUNTRY_NAME|count|\n+-----------------+-------------------+-----+\n|    United States|            Romania|   15|\n|    United States|            Croatia|    1|\n|    United States|            Ireland|  344|\n|            Egypt|      United States|   15|\n|    United States|              India|   62|\n+-----------------+-------------------+-----+\nonly showing top 5 rows\n\n"
     ]
    }
   ],
   "source": [
    "df.show(5)  # It triggers execution, and we see the first 5 rows.\n",
    "\n"
   ]
  },
  {
   "cell_type": "markdown",
   "metadata": {
    "application/vnd.databricks.v1+cell": {
     "cellMetadata": {},
     "inputWidgets": {},
     "nuid": "b024236d-b726-44f7-a20f-2787c53e8fb8",
     "showTitle": false,
     "tableResultSettingsMap": {},
     "title": ""
    }
   },
   "source": [
    "### Sorting the data"
   ]
  },
  {
   "cell_type": "code",
   "execution_count": 0,
   "metadata": {
    "application/vnd.databricks.v1+cell": {
     "cellMetadata": {
      "byteLimit": 2048000,
      "rowLimit": 10000
     },
     "inputWidgets": {},
     "nuid": "6af962ae-1c16-4c3d-9a6b-4310de237ddf",
     "showTitle": false,
     "tableResultSettingsMap": {},
     "title": ""
    }
   },
   "outputs": [],
   "source": [
    "df_sorted = df.sort('count')\n",
    "\n",
    "#This does not modify df (because transformations in Spark are lazy).\n",
    "#It returns a new DataFrame (df_sorted) with rows ordered by flight count."
   ]
  },
  {
   "cell_type": "code",
   "execution_count": 0,
   "metadata": {
    "application/vnd.databricks.v1+cell": {
     "cellMetadata": {
      "byteLimit": 2048000,
      "rowLimit": 10000
     },
     "inputWidgets": {},
     "nuid": "9b943155-6e6f-436e-b79c-bdc6ba5b3df8",
     "showTitle": false,
     "tableResultSettingsMap": {},
     "title": ""
    }
   },
   "outputs": [
    {
     "output_type": "stream",
     "name": "stdout",
     "output_type": "stream",
     "text": [
      "+--------------------+-------------------+-----+\n|   DEST_COUNTRY_NAME|ORIGIN_COUNTRY_NAME|count|\n+--------------------+-------------------+-----+\n|               Malta|      United States|    1|\n|Saint Vincent and...|      United States|    1|\n|       United States|            Croatia|    1|\n|       United States|          Gibraltar|    1|\n|       United States|          Singapore|    1|\n+--------------------+-------------------+-----+\nonly showing top 5 rows\n\n"
     ]
    }
   ],
   "source": [
    "df_sorted.show(5)"
   ]
  },
  {
   "cell_type": "markdown",
   "metadata": {
    "application/vnd.databricks.v1+cell": {
     "cellMetadata": {},
     "inputWidgets": {},
     "nuid": "42142564-c86e-4692-b444-e67ac8a2fc23",
     "showTitle": false,
     "tableResultSettingsMap": {},
     "title": ""
    }
   },
   "source": [
    "#### Understanding the Execution Plan (explain plan)\n",
    "\n",
    ".explain() on a DataFrame in PySpark, it shows you how Spark plans to execute the query.\\\n",
    "**How to Read an Explain Plan**\n",
    "- The plan is structured top to bottom.\n",
    "- The top part represents the final operation that Spark will perform.\n",
    "- The bottom part represents the starting point, which is the data source.\n",
    "\n"
   ]
  },
  {
   "cell_type": "code",
   "execution_count": 0,
   "metadata": {
    "application/vnd.databricks.v1+cell": {
     "cellMetadata": {
      "byteLimit": 2048000,
      "rowLimit": 10000
     },
     "inputWidgets": {},
     "nuid": "164a70be-7441-4659-979a-4f6a1b30bb2d",
     "showTitle": false,
     "tableResultSettingsMap": {},
     "title": ""
    }
   },
   "outputs": [
    {
     "output_type": "stream",
     "name": "stdout",
     "output_type": "stream",
     "text": [
      "== Physical Plan ==\nAdaptiveSparkPlan isFinalPlan=false\n+- Sort [count#202 ASC NULLS FIRST], true, 0\n   +- Exchange rangepartitioning(count#202 ASC NULLS FIRST, 200), ENSURE_REQUIREMENTS, [plan_id=281]\n      +- FileScan csv [DEST_COUNTRY_NAME#200,ORIGIN_COUNTRY_NAME#201,count#202] Batched: false, DataFilters: [], Format: CSV, Location: InMemoryFileIndex(1 paths)[dbfs:/FileStore/tables/2015_summary.csv], PartitionFilters: [], PushedFilters: [], ReadSchema: struct<DEST_COUNTRY_NAME:string,ORIGIN_COUNTRY_NAME:string,count:int>\n\n\nOut[36]: ' Exchange rangepartitioning(count#202 ASC NULLS FIRST, 200) : Exchange means data shuffling across partitions. \\n    rangepartitioning(count#202 ASC NULLS FIRST, 200):Uses Range Partitioning (divides data into ranges based on count values). 200 partitions are created. Ensures that sorting is distributed efficiently.\\nFileScan csv :  Columns Read: DEST_COUNTRY_NAME, ORIGIN_COUNTRY_NAME, count\\n                Batched: false → Row-based processing (not columnar format like Parquet).\\n                DataFilters: [] → No filters applied (full scan).\\n                Format: CSV → Reading data from a CSV file.\\n                Location: InMemoryFileIndex(1 paths)[dbfs:/FileStore/tables/2015_summary.csv]\\n                File is stored in Databricks DBFS.\\n                PartitionFilters: [] → No partition pruning applied.\\n                PushedFilters: [] → No pushdown filters applied.\\n'"
     ]
    }
   ],
   "source": [
    "df.sort('count').explain() # run this code\n",
    "\n",
    "\"\"\" Sort [count#202 ASC NULLS FIRST], true, 0 :   Spark sorts the data by the column count (ascending order).\n",
    "                                                  NULL values appear first.\n",
    "                                                  true, 0: true means sorting is global, 0 refers to sorting order.\"\"\"\n",
    "\"\"\" Exchange rangepartitioning(count#202 ASC NULLS FIRST, 200) : Exchange means data shuffling across partitions. \n",
    "    rangepartitioning(count#202 ASC NULLS FIRST, 200):Uses Range Partitioning (divides data into ranges based on count values). 200 partitions are created. Ensures that sorting is distributed efficiently.\n",
    "FileScan csv :  Columns Read: DEST_COUNTRY_NAME, ORIGIN_COUNTRY_NAME, count\n",
    "                Batched: false → Row-based processing (not columnar format like Parquet).\n",
    "                DataFilters: [] → No filters applied (full scan).\n",
    "                Format: CSV → Reading data from a CSV file.\n",
    "                Location: InMemoryFileIndex(1 paths)[dbfs:/FileStore/tables/2015_summary.csv]\n",
    "                File is stored in Databricks DBFS.\n",
    "                PartitionFilters: [] → No partition pruning applied.\n",
    "                PushedFilters: [] → No pushdown filters applied.\n",
    "\"\"\"\n",
    "\n"
   ]
  },
  {
   "cell_type": "markdown",
   "metadata": {
    "application/vnd.databricks.v1+cell": {
     "cellMetadata": {
      "byteLimit": 2048000,
      "rowLimit": 10000
     },
     "inputWidgets": {},
     "nuid": "8845eaec-75d8-4bad-b224-1dc70a1080a3",
     "showTitle": false,
     "tableResultSettingsMap": {},
     "title": ""
    }
   },
   "source": [
    "In Above by default Spark uses 200 shuffle partitions, which can be too many for small datasets. We can reduce this number for better performance."
   ]
  },
  {
   "cell_type": "markdown",
   "metadata": {
    "application/vnd.databricks.v1+cell": {
     "cellMetadata": {},
     "inputWidgets": {},
     "nuid": "1653dc7f-fd6a-4645-ac94-afab20c49270",
     "showTitle": false,
     "tableResultSettingsMap": {},
     "title": ""
    }
   },
   "source": [
    "\n",
    "### Changing Shuffle Partitions\n",
    "\n",
    "- Too many partitions (e.g., 200) → High overhead\n",
    "  - More partitions mean more shuffling and network communication, leading to performance issues.\n",
    "  - Too few partitions (e.g., 1) → Inefficient parallelism\n",
    "If you reduce it too much, Spark won’t utilize all the worker nodes efficiently.\n",
    "- The best partition size depends on your dataset and cluster configuration.\n",
    "A good practice is to experiment with different values and monitor performance."
   ]
  },
  {
   "cell_type": "code",
   "execution_count": 0,
   "metadata": {
    "application/vnd.databricks.v1+cell": {
     "cellMetadata": {
      "byteLimit": 2048000,
      "rowLimit": 10000
     },
     "inputWidgets": {},
     "nuid": "303f3489-b6ad-44e3-8e8a-990a0714bb1e",
     "showTitle": false,
     "tableResultSettingsMap": {},
     "title": ""
    }
   },
   "outputs": [],
   "source": [
    "spark.conf.set(\"spark.sql.shuffle.partitions\", \"50\")\n",
    "\n",
    "# spark.sql.shuffle.partitions is a Spark configuration setting that controls the number of partitions used when shuffling data during Spark SQL operation"
   ]
  },
  {
   "cell_type": "markdown",
   "metadata": {
    "application/vnd.databricks.v1+cell": {
     "cellMetadata": {},
     "inputWidgets": {},
     "nuid": "aa962fc4-7dc2-4437-8864-18cd35830f32",
     "showTitle": false,
     "tableResultSettingsMap": {},
     "title": ""
    }
   },
   "source": [
    "- Every transformation (like sort) does not immediately execute.\n",
    "- Instead, Spark builds a logical execution plan, keeping track of what needs to be done.\n",
    "- This is known as lineage – Spark knows exactly how to recompute any piece of data if needed.\n",
    "- Spark is designed for fault tolerance.\n",
    "- If a worker node fails, Spark can recompute the lost data using its lineage.\n"
   ]
  },
  {
   "cell_type": "code",
   "execution_count": 0,
   "metadata": {
    "application/vnd.databricks.v1+cell": {
     "cellMetadata": {
      "byteLimit": 2048000,
      "rowLimit": 10000
     },
     "inputWidgets": {},
     "nuid": "c877af82-cd8d-4c08-8dc8-5f5f34656e89",
     "showTitle": false,
     "tableResultSettingsMap": {},
     "title": ""
    }
   },
   "outputs": [
    {
     "output_type": "stream",
     "name": "stdout",
     "output_type": "stream",
     "text": [
      "Out[51]: [Row(DEST_COUNTRY_NAME='Malta', ORIGIN_COUNTRY_NAME='United States', count=1),\n Row(DEST_COUNTRY_NAME='Saint Vincent and the Grenadines', ORIGIN_COUNTRY_NAME='United States', count=1),\n Row(DEST_COUNTRY_NAME='United States', ORIGIN_COUNTRY_NAME='Croatia', count=1),\n Row(DEST_COUNTRY_NAME='United States', ORIGIN_COUNTRY_NAME='Gibraltar', count=1),\n Row(DEST_COUNTRY_NAME='United States', ORIGIN_COUNTRY_NAME='Singapore', count=1)]"
     ]
    }
   ],
   "source": [
    "df.sort(\"count\").take(5)"
   ]
  },
  {
   "cell_type": "markdown",
   "metadata": {
    "application/vnd.databricks.v1+cell": {
     "cellMetadata": {},
     "inputWidgets": {},
     "nuid": "b189d5ee-9435-4029-bfbf-81158c8354b2",
     "showTitle": false,
     "tableResultSettingsMap": {},
     "title": ""
    }
   },
   "source": [
    "\n",
    "### Take() and Collect ()\n",
    "take(n)- Returns only n rows (efficient for large datasets)\\\n",
    "collect() - Returns all rows (not recommended for large datasets) - Argumnets cant be passed to collect"
   ]
  },
  {
   "cell_type": "code",
   "execution_count": 0,
   "metadata": {
    "application/vnd.databricks.v1+cell": {
     "cellMetadata": {
      "byteLimit": 2048000,
      "rowLimit": 10000
     },
     "inputWidgets": {},
     "nuid": "6c7af178-a621-4060-8a2f-bdbbdb945bc4",
     "showTitle": false,
     "tableResultSettingsMap": {},
     "title": ""
    }
   },
   "outputs": [
    {
     "output_type": "stream",
     "name": "stdout",
     "output_type": "stream",
     "text": [
      "Out[54]: [Row(DEST_COUNTRY_NAME='United States', ORIGIN_COUNTRY_NAME='Romania', count=15),\n Row(DEST_COUNTRY_NAME='United States', ORIGIN_COUNTRY_NAME='Croatia', count=1),\n Row(DEST_COUNTRY_NAME='United States', ORIGIN_COUNTRY_NAME='Ireland', count=344),\n Row(DEST_COUNTRY_NAME='Egypt', ORIGIN_COUNTRY_NAME='United States', count=15),\n Row(DEST_COUNTRY_NAME='United States', ORIGIN_COUNTRY_NAME='India', count=62)]"
     ]
    }
   ],
   "source": [
    "df.take(5)\n"
   ]
  },
  {
   "cell_type": "code",
   "execution_count": 0,
   "metadata": {
    "application/vnd.databricks.v1+cell": {
     "cellMetadata": {
      "byteLimit": 2048000,
      "rowLimit": 10000
     },
     "inputWidgets": {},
     "nuid": "27e18d02-32ce-4eda-aa58-519321e298b5",
     "showTitle": false,
     "tableResultSettingsMap": {},
     "title": ""
    }
   },
   "outputs": [
    {
     "output_type": "stream",
     "name": "stdout",
     "output_type": "stream",
     "text": [
      "Out[56]: [Row(DEST_COUNTRY_NAME='United States', ORIGIN_COUNTRY_NAME='Romania', count=15),\n Row(DEST_COUNTRY_NAME='United States', ORIGIN_COUNTRY_NAME='Croatia', count=1),\n Row(DEST_COUNTRY_NAME='United States', ORIGIN_COUNTRY_NAME='Ireland', count=344),\n Row(DEST_COUNTRY_NAME='Egypt', ORIGIN_COUNTRY_NAME='United States', count=15),\n Row(DEST_COUNTRY_NAME='United States', ORIGIN_COUNTRY_NAME='India', count=62),\n Row(DEST_COUNTRY_NAME='United States', ORIGIN_COUNTRY_NAME='Singapore', count=1),\n Row(DEST_COUNTRY_NAME='United States', ORIGIN_COUNTRY_NAME='Grenada', count=62),\n Row(DEST_COUNTRY_NAME='Costa Rica', ORIGIN_COUNTRY_NAME='United States', count=588),\n Row(DEST_COUNTRY_NAME='Senegal', ORIGIN_COUNTRY_NAME='United States', count=40),\n Row(DEST_COUNTRY_NAME='Moldova', ORIGIN_COUNTRY_NAME='United States', count=1),\n Row(DEST_COUNTRY_NAME='United States', ORIGIN_COUNTRY_NAME='Sint Maarten', count=325),\n Row(DEST_COUNTRY_NAME='United States', ORIGIN_COUNTRY_NAME='Marshall Islands', count=39),\n Row(DEST_COUNTRY_NAME='Guyana', ORIGIN_COUNTRY_NAME='United States', count=64),\n Row(DEST_COUNTRY_NAME='Malta', ORIGIN_COUNTRY_NAME='United States', count=1),\n Row(DEST_COUNTRY_NAME='Anguilla', ORIGIN_COUNTRY_NAME='United States', count=41),\n Row(DEST_COUNTRY_NAME='Bolivia', ORIGIN_COUNTRY_NAME='United States', count=30),\n Row(DEST_COUNTRY_NAME='United States', ORIGIN_COUNTRY_NAME='Paraguay', count=6),\n Row(DEST_COUNTRY_NAME='Algeria', ORIGIN_COUNTRY_NAME='United States', count=4),\n Row(DEST_COUNTRY_NAME='Turks and Caicos Islands', ORIGIN_COUNTRY_NAME='United States', count=230),\n Row(DEST_COUNTRY_NAME='United States', ORIGIN_COUNTRY_NAME='Gibraltar', count=1),\n Row(DEST_COUNTRY_NAME='Saint Vincent and the Grenadines', ORIGIN_COUNTRY_NAME='United States', count=1),\n Row(DEST_COUNTRY_NAME='Italy', ORIGIN_COUNTRY_NAME='United States', count=382),\n Row(DEST_COUNTRY_NAME='United States', ORIGIN_COUNTRY_NAME='Federated States of Micronesia', count=69),\n Row(DEST_COUNTRY_NAME='United States', ORIGIN_COUNTRY_NAME='Russia', count=161),\n Row(DEST_COUNTRY_NAME='Pakistan', ORIGIN_COUNTRY_NAME='United States', count=12),\n Row(DEST_COUNTRY_NAME='United States', ORIGIN_COUNTRY_NAME='Netherlands', count=660),\n Row(DEST_COUNTRY_NAME='Iceland', ORIGIN_COUNTRY_NAME='United States', count=181),\n Row(DEST_COUNTRY_NAME='Marshall Islands', ORIGIN_COUNTRY_NAME='United States', count=42),\n Row(DEST_COUNTRY_NAME='Luxembourg', ORIGIN_COUNTRY_NAME='United States', count=155),\n Row(DEST_COUNTRY_NAME='Honduras', ORIGIN_COUNTRY_NAME='United States', count=362),\n Row(DEST_COUNTRY_NAME='The Bahamas', ORIGIN_COUNTRY_NAME='United States', count=955),\n Row(DEST_COUNTRY_NAME='United States', ORIGIN_COUNTRY_NAME='Senegal', count=42),\n Row(DEST_COUNTRY_NAME='El Salvador', ORIGIN_COUNTRY_NAME='United States', count=561),\n Row(DEST_COUNTRY_NAME='Samoa', ORIGIN_COUNTRY_NAME='United States', count=25),\n Row(DEST_COUNTRY_NAME='United States', ORIGIN_COUNTRY_NAME='Angola', count=13),\n Row(DEST_COUNTRY_NAME='Switzerland', ORIGIN_COUNTRY_NAME='United States', count=294),\n Row(DEST_COUNTRY_NAME='United States', ORIGIN_COUNTRY_NAME='Anguilla', count=38),\n Row(DEST_COUNTRY_NAME='Sint Maarten', ORIGIN_COUNTRY_NAME='United States', count=325),\n Row(DEST_COUNTRY_NAME='Hong Kong', ORIGIN_COUNTRY_NAME='United States', count=332),\n Row(DEST_COUNTRY_NAME='Trinidad and Tobago', ORIGIN_COUNTRY_NAME='United States', count=211),\n Row(DEST_COUNTRY_NAME='Latvia', ORIGIN_COUNTRY_NAME='United States', count=19),\n Row(DEST_COUNTRY_NAME='United States', ORIGIN_COUNTRY_NAME='Ecuador', count=300),\n Row(DEST_COUNTRY_NAME='Suriname', ORIGIN_COUNTRY_NAME='United States', count=1),\n Row(DEST_COUNTRY_NAME='Mexico', ORIGIN_COUNTRY_NAME='United States', count=7140),\n Row(DEST_COUNTRY_NAME='United States', ORIGIN_COUNTRY_NAME='Cyprus', count=1),\n Row(DEST_COUNTRY_NAME='Ecuador', ORIGIN_COUNTRY_NAME='United States', count=268),\n Row(DEST_COUNTRY_NAME='United States', ORIGIN_COUNTRY_NAME='Portugal', count=134),\n Row(DEST_COUNTRY_NAME='United States', ORIGIN_COUNTRY_NAME='Costa Rica', count=608),\n Row(DEST_COUNTRY_NAME='United States', ORIGIN_COUNTRY_NAME='Guatemala', count=318),\n Row(DEST_COUNTRY_NAME='United States', ORIGIN_COUNTRY_NAME='Suriname', count=34),\n Row(DEST_COUNTRY_NAME='Colombia', ORIGIN_COUNTRY_NAME='United States', count=873),\n Row(DEST_COUNTRY_NAME='United States', ORIGIN_COUNTRY_NAME='Cape Verde', count=14),\n Row(DEST_COUNTRY_NAME='United States', ORIGIN_COUNTRY_NAME='Jamaica', count=712),\n Row(DEST_COUNTRY_NAME='Norway', ORIGIN_COUNTRY_NAME='United States', count=121),\n Row(DEST_COUNTRY_NAME='United States', ORIGIN_COUNTRY_NAME='Malaysia', count=3),\n Row(DEST_COUNTRY_NAME='United States', ORIGIN_COUNTRY_NAME='Morocco', count=19),\n Row(DEST_COUNTRY_NAME='Thailand', ORIGIN_COUNTRY_NAME='United States', count=3),\n Row(DEST_COUNTRY_NAME='United States', ORIGIN_COUNTRY_NAME='Samoa', count=25),\n Row(DEST_COUNTRY_NAME='Venezuela', ORIGIN_COUNTRY_NAME='United States', count=290),\n Row(DEST_COUNTRY_NAME='United States', ORIGIN_COUNTRY_NAME='Palau', count=31),\n Row(DEST_COUNTRY_NAME='United States', ORIGIN_COUNTRY_NAME='Venezuela', count=246),\n Row(DEST_COUNTRY_NAME='Panama', ORIGIN_COUNTRY_NAME='United States', count=510),\n Row(DEST_COUNTRY_NAME='Antigua and Barbuda', ORIGIN_COUNTRY_NAME='United States', count=126),\n Row(DEST_COUNTRY_NAME='United States', ORIGIN_COUNTRY_NAME='Chile', count=185),\n Row(DEST_COUNTRY_NAME='Morocco', ORIGIN_COUNTRY_NAME='United States', count=15),\n Row(DEST_COUNTRY_NAME='United States', ORIGIN_COUNTRY_NAME='Finland', count=28),\n Row(DEST_COUNTRY_NAME='Azerbaijan', ORIGIN_COUNTRY_NAME='United States', count=21),\n Row(DEST_COUNTRY_NAME='United States', ORIGIN_COUNTRY_NAME='Greece', count=23),\n Row(DEST_COUNTRY_NAME='United States', ORIGIN_COUNTRY_NAME='The Bahamas', count=986),\n Row(DEST_COUNTRY_NAME='New Zealand', ORIGIN_COUNTRY_NAME='United States', count=111),\n Row(DEST_COUNTRY_NAME='Liberia', ORIGIN_COUNTRY_NAME='United States', count=2),\n Row(DEST_COUNTRY_NAME='United States', ORIGIN_COUNTRY_NAME='Hong Kong', count=414),\n Row(DEST_COUNTRY_NAME='Hungary', ORIGIN_COUNTRY_NAME='United States', count=2),\n Row(DEST_COUNTRY_NAME='United States', ORIGIN_COUNTRY_NAME='China', count=920),\n Row(DEST_COUNTRY_NAME='United States', ORIGIN_COUNTRY_NAME='Vietnam', count=2),\n Row(DEST_COUNTRY_NAME='Burkina Faso', ORIGIN_COUNTRY_NAME='United States', count=1),\n Row(DEST_COUNTRY_NAME='Sweden', ORIGIN_COUNTRY_NAME='United States', count=118),\n Row(DEST_COUNTRY_NAME='United States', ORIGIN_COUNTRY_NAME='Kuwait', count=28),\n Row(DEST_COUNTRY_NAME='United States', ORIGIN_COUNTRY_NAME='Dominican Republic', count=1420),\n Row(DEST_COUNTRY_NAME='United States', ORIGIN_COUNTRY_NAME='Egypt', count=12),\n Row(DEST_COUNTRY_NAME='Israel', ORIGIN_COUNTRY_NAME='United States', count=134),\n Row(DEST_COUNTRY_NAME='United States', ORIGIN_COUNTRY_NAME='United States', count=370002),\n Row(DEST_COUNTRY_NAME='Ethiopia', ORIGIN_COUNTRY_NAME='United States', count=13),\n Row(DEST_COUNTRY_NAME='United States', ORIGIN_COUNTRY_NAME='Luxembourg', count=134),\n Row(DEST_COUNTRY_NAME='United States', ORIGIN_COUNTRY_NAME='Poland', count=33),\n Row(DEST_COUNTRY_NAME='Martinique', ORIGIN_COUNTRY_NAME='United States', count=44),\n Row(DEST_COUNTRY_NAME='United States', ORIGIN_COUNTRY_NAME='Saint Barthelemy', count=41),\n Row(DEST_COUNTRY_NAME='Saint Barthelemy', ORIGIN_COUNTRY_NAME='United States', count=39),\n Row(DEST_COUNTRY_NAME='Barbados', ORIGIN_COUNTRY_NAME='United States', count=154),\n Row(DEST_COUNTRY_NAME='United States', ORIGIN_COUNTRY_NAME='Turkey', count=129),\n Row(DEST_COUNTRY_NAME='Djibouti', ORIGIN_COUNTRY_NAME='United States', count=1),\n Row(DEST_COUNTRY_NAME='United States', ORIGIN_COUNTRY_NAME='Azerbaijan', count=21),\n Row(DEST_COUNTRY_NAME='United States', ORIGIN_COUNTRY_NAME='Estonia', count=1),\n Row(DEST_COUNTRY_NAME='Germany', ORIGIN_COUNTRY_NAME='United States', count=1468),\n Row(DEST_COUNTRY_NAME='United States', ORIGIN_COUNTRY_NAME='South Korea', count=827),\n Row(DEST_COUNTRY_NAME='United States', ORIGIN_COUNTRY_NAME='El Salvador', count=508),\n Row(DEST_COUNTRY_NAME='Ireland', ORIGIN_COUNTRY_NAME='United States', count=335),\n Row(DEST_COUNTRY_NAME='United States', ORIGIN_COUNTRY_NAME='Hungary', count=3),\n Row(DEST_COUNTRY_NAME='Zambia', ORIGIN_COUNTRY_NAME='United States', count=1),\n Row(DEST_COUNTRY_NAME='Malaysia', ORIGIN_COUNTRY_NAME='United States', count=2),\n Row(DEST_COUNTRY_NAME='United States', ORIGIN_COUNTRY_NAME='Ethiopia', count=12),\n Row(DEST_COUNTRY_NAME='United States', ORIGIN_COUNTRY_NAME='Panama', count=465),\n Row(DEST_COUNTRY_NAME='United States', ORIGIN_COUNTRY_NAME='Aruba', count=342),\n Row(DEST_COUNTRY_NAME='United States', ORIGIN_COUNTRY_NAME='Thailand', count=4),\n Row(DEST_COUNTRY_NAME='United States', ORIGIN_COUNTRY_NAME='Turks and Caicos Islands', count=236),\n Row(DEST_COUNTRY_NAME='Croatia', ORIGIN_COUNTRY_NAME='United States', count=2),\n Row(DEST_COUNTRY_NAME='United States', ORIGIN_COUNTRY_NAME='Pakistan', count=12),\n Row(DEST_COUNTRY_NAME='Cyprus', ORIGIN_COUNTRY_NAME='United States', count=1),\n Row(DEST_COUNTRY_NAME='United States', ORIGIN_COUNTRY_NAME='Honduras', count=407),\n Row(DEST_COUNTRY_NAME='Fiji', ORIGIN_COUNTRY_NAME='United States', count=24),\n Row(DEST_COUNTRY_NAME='Qatar', ORIGIN_COUNTRY_NAME='United States', count=108),\n Row(DEST_COUNTRY_NAME='Saint Kitts and Nevis', ORIGIN_COUNTRY_NAME='United States', count=139),\n Row(DEST_COUNTRY_NAME='Kuwait', ORIGIN_COUNTRY_NAME='United States', count=32),\n Row(DEST_COUNTRY_NAME='Taiwan', ORIGIN_COUNTRY_NAME='United States', count=266),\n Row(DEST_COUNTRY_NAME='Haiti', ORIGIN_COUNTRY_NAME='United States', count=226),\n Row(DEST_COUNTRY_NAME='Canada', ORIGIN_COUNTRY_NAME='United States', count=8399),\n Row(DEST_COUNTRY_NAME='Federated States of Micronesia', ORIGIN_COUNTRY_NAME='United States', count=69),\n Row(DEST_COUNTRY_NAME='United States', ORIGIN_COUNTRY_NAME='Liberia', count=2),\n Row(DEST_COUNTRY_NAME='Jamaica', ORIGIN_COUNTRY_NAME='United States', count=666),\n Row(DEST_COUNTRY_NAME='United States', ORIGIN_COUNTRY_NAME='Malta', count=2),\n Row(DEST_COUNTRY_NAME='Dominican Republic', ORIGIN_COUNTRY_NAME='United States', count=1353),\n Row(DEST_COUNTRY_NAME='Japan', ORIGIN_COUNTRY_NAME='United States', count=1548),\n Row(DEST_COUNTRY_NAME='United States', ORIGIN_COUNTRY_NAME='Lithuania', count=1),\n Row(DEST_COUNTRY_NAME='Finland', ORIGIN_COUNTRY_NAME='United States', count=26),\n Row(DEST_COUNTRY_NAME='United States', ORIGIN_COUNTRY_NAME='Guadeloupe', count=59),\n Row(DEST_COUNTRY_NAME='United States', ORIGIN_COUNTRY_NAME='Ukraine', count=13),\n Row(DEST_COUNTRY_NAME='United States', ORIGIN_COUNTRY_NAME='France', count=952),\n Row(DEST_COUNTRY_NAME='United States', ORIGIN_COUNTRY_NAME='Norway', count=115),\n Row(DEST_COUNTRY_NAME='Aruba', ORIGIN_COUNTRY_NAME='United States', count=346),\n Row(DEST_COUNTRY_NAME='French Guiana', ORIGIN_COUNTRY_NAME='United States', count=5),\n Row(DEST_COUNTRY_NAME='United States', ORIGIN_COUNTRY_NAME='Kiribati', count=35),\n Row(DEST_COUNTRY_NAME='India', ORIGIN_COUNTRY_NAME='United States', count=61),\n Row(DEST_COUNTRY_NAME='British Virgin Islands', ORIGIN_COUNTRY_NAME='United States', count=107),\n Row(DEST_COUNTRY_NAME='Brazil', ORIGIN_COUNTRY_NAME='United States', count=853),\n Row(DEST_COUNTRY_NAME='United States', ORIGIN_COUNTRY_NAME='Germany', count=1336),\n Row(DEST_COUNTRY_NAME='United States', ORIGIN_COUNTRY_NAME='New Zealand', count=74),\n Row(DEST_COUNTRY_NAME='French Polynesia', ORIGIN_COUNTRY_NAME='United States', count=43),\n Row(DEST_COUNTRY_NAME='United Arab Emirates', ORIGIN_COUNTRY_NAME='United States', count=320),\n Row(DEST_COUNTRY_NAME='Singapore', ORIGIN_COUNTRY_NAME='United States', count=3),\n Row(DEST_COUNTRY_NAME='United States', ORIGIN_COUNTRY_NAME='Mexico', count=7187),\n Row(DEST_COUNTRY_NAME='United States', ORIGIN_COUNTRY_NAME='Sweden', count=119),\n Row(DEST_COUNTRY_NAME='Netherlands', ORIGIN_COUNTRY_NAME='United States', count=776),\n Row(DEST_COUNTRY_NAME='United States', ORIGIN_COUNTRY_NAME='Martinique', count=43),\n Row(DEST_COUNTRY_NAME='United States', ORIGIN_COUNTRY_NAME='United Arab Emirates', count=313),\n Row(DEST_COUNTRY_NAME='United States', ORIGIN_COUNTRY_NAME='Bulgaria', count=1),\n Row(DEST_COUNTRY_NAME='Denmark', ORIGIN_COUNTRY_NAME='United States', count=153),\n Row(DEST_COUNTRY_NAME='China', ORIGIN_COUNTRY_NAME='United States', count=772),\n Row(DEST_COUNTRY_NAME='United States', ORIGIN_COUNTRY_NAME='Nicaragua', count=201),\n Row(DEST_COUNTRY_NAME='United States', ORIGIN_COUNTRY_NAME='Philippines', count=126),\n Row(DEST_COUNTRY_NAME='United States', ORIGIN_COUNTRY_NAME='Georgia', count=1),\n Row(DEST_COUNTRY_NAME='United States', ORIGIN_COUNTRY_NAME='Belgium', count=228),\n Row(DEST_COUNTRY_NAME='Cayman Islands', ORIGIN_COUNTRY_NAME='United States', count=314),\n Row(DEST_COUNTRY_NAME='Argentina', ORIGIN_COUNTRY_NAME='United States', count=180),\n Row(DEST_COUNTRY_NAME='Peru', ORIGIN_COUNTRY_NAME='United States', count=279),\n Row(DEST_COUNTRY_NAME='South Africa', ORIGIN_COUNTRY_NAME='United States', count=36),\n Row(DEST_COUNTRY_NAME='United States', ORIGIN_COUNTRY_NAME='Iceland', count=202),\n Row(DEST_COUNTRY_NAME='United States', ORIGIN_COUNTRY_NAME='Argentina', count=141),\n Row(DEST_COUNTRY_NAME='Spain', ORIGIN_COUNTRY_NAME='United States', count=420),\n Row(DEST_COUNTRY_NAME='Bermuda', ORIGIN_COUNTRY_NAME='United States', count=183),\n Row(DEST_COUNTRY_NAME='United States', ORIGIN_COUNTRY_NAME='Nigeria', count=50),\n Row(DEST_COUNTRY_NAME='United States', ORIGIN_COUNTRY_NAME='Austria', count=63),\n Row(DEST_COUNTRY_NAME='United States', ORIGIN_COUNTRY_NAME='Bonaire, Sint Eustatius, and Saba', count=59),\n Row(DEST_COUNTRY_NAME='Kiribati', ORIGIN_COUNTRY_NAME='United States', count=26),\n Row(DEST_COUNTRY_NAME='Saudi Arabia', ORIGIN_COUNTRY_NAME='United States', count=83),\n Row(DEST_COUNTRY_NAME='Czech Republic', ORIGIN_COUNTRY_NAME='United States', count=13),\n Row(DEST_COUNTRY_NAME='United States', ORIGIN_COUNTRY_NAME='Israel', count=127),\n Row(DEST_COUNTRY_NAME='Belgium', ORIGIN_COUNTRY_NAME='United States', count=259),\n Row(DEST_COUNTRY_NAME='United States', ORIGIN_COUNTRY_NAME='Saint Lucia', count=136),\n Row(DEST_COUNTRY_NAME='United States', ORIGIN_COUNTRY_NAME='Bahrain', count=1),\n Row(DEST_COUNTRY_NAME='United States', ORIGIN_COUNTRY_NAME='British Virgin Islands', count=80),\n Row(DEST_COUNTRY_NAME='Curacao', ORIGIN_COUNTRY_NAME='United States', count=90),\n Row(DEST_COUNTRY_NAME='Georgia', ORIGIN_COUNTRY_NAME='United States', count=2),\n Row(DEST_COUNTRY_NAME='United States', ORIGIN_COUNTRY_NAME='Denmark', count=152),\n Row(DEST_COUNTRY_NAME='United States', ORIGIN_COUNTRY_NAME='Guyana', count=63),\n Row(DEST_COUNTRY_NAME='Philippines', ORIGIN_COUNTRY_NAME='United States', count=134),\n Row(DEST_COUNTRY_NAME='Grenada', ORIGIN_COUNTRY_NAME='United States', count=53),\n Row(DEST_COUNTRY_NAME='Cape Verde', ORIGIN_COUNTRY_NAME='United States', count=20),\n Row(DEST_COUNTRY_NAME=\"Cote d'Ivoire\", ORIGIN_COUNTRY_NAME='United States', count=1),\n Row(DEST_COUNTRY_NAME='Ukraine', ORIGIN_COUNTRY_NAME='United States', count=14),\n Row(DEST_COUNTRY_NAME='United States', ORIGIN_COUNTRY_NAME='Papua New Guinea', count=1),\n Row(DEST_COUNTRY_NAME='Russia', ORIGIN_COUNTRY_NAME='United States', count=176),\n Row(DEST_COUNTRY_NAME='United States', ORIGIN_COUNTRY_NAME='Saudi Arabia', count=70),\n Row(DEST_COUNTRY_NAME='Guatemala', ORIGIN_COUNTRY_NAME='United States', count=397),\n Row(DEST_COUNTRY_NAME='Saint Lucia', ORIGIN_COUNTRY_NAME='United States', count=123),\n Row(DEST_COUNTRY_NAME='Paraguay', ORIGIN_COUNTRY_NAME='United States', count=60),\n Row(DEST_COUNTRY_NAME='United States', ORIGIN_COUNTRY_NAME='Curacao', count=83),\n Row(DEST_COUNTRY_NAME='Kosovo', ORIGIN_COUNTRY_NAME='United States', count=1),\n Row(DEST_COUNTRY_NAME='United States', ORIGIN_COUNTRY_NAME='Taiwan', count=235),\n Row(DEST_COUNTRY_NAME='Tunisia', ORIGIN_COUNTRY_NAME='United States', count=3),\n Row(DEST_COUNTRY_NAME='United States', ORIGIN_COUNTRY_NAME='South Africa', count=40),\n Row(DEST_COUNTRY_NAME='Niger', ORIGIN_COUNTRY_NAME='United States', count=2),\n Row(DEST_COUNTRY_NAME='Turkey', ORIGIN_COUNTRY_NAME='United States', count=138),\n Row(DEST_COUNTRY_NAME='United Kingdom', ORIGIN_COUNTRY_NAME='United States', count=2025),\n Row(DEST_COUNTRY_NAME='Romania', ORIGIN_COUNTRY_NAME='United States', count=14),\n Row(DEST_COUNTRY_NAME='United States', ORIGIN_COUNTRY_NAME='Greenland', count=4),\n Row(DEST_COUNTRY_NAME='Papua New Guinea', ORIGIN_COUNTRY_NAME='United States', count=3),\n Row(DEST_COUNTRY_NAME='United States', ORIGIN_COUNTRY_NAME='Spain', count=442),\n Row(DEST_COUNTRY_NAME='Iraq', ORIGIN_COUNTRY_NAME='United States', count=1),\n Row(DEST_COUNTRY_NAME='United States', ORIGIN_COUNTRY_NAME='Italy', count=438),\n Row(DEST_COUNTRY_NAME='Cuba', ORIGIN_COUNTRY_NAME='United States', count=466),\n Row(DEST_COUNTRY_NAME='United States', ORIGIN_COUNTRY_NAME='Switzerland', count=305),\n Row(DEST_COUNTRY_NAME='Dominica', ORIGIN_COUNTRY_NAME='United States', count=20),\n Row(DEST_COUNTRY_NAME='United States', ORIGIN_COUNTRY_NAME='Japan', count=1496),\n Row(DEST_COUNTRY_NAME='Portugal', ORIGIN_COUNTRY_NAME='United States', count=127),\n Row(DEST_COUNTRY_NAME='United States', ORIGIN_COUNTRY_NAME='Brazil', count=619),\n Row(DEST_COUNTRY_NAME='Bahrain', ORIGIN_COUNTRY_NAME='United States', count=19),\n Row(DEST_COUNTRY_NAME='United States', ORIGIN_COUNTRY_NAME='Peru', count=337),\n Row(DEST_COUNTRY_NAME='Indonesia', ORIGIN_COUNTRY_NAME='United States', count=1),\n Row(DEST_COUNTRY_NAME='United States', ORIGIN_COUNTRY_NAME='Belize', count=193),\n Row(DEST_COUNTRY_NAME='United States', ORIGIN_COUNTRY_NAME='United Kingdom', count=1970),\n Row(DEST_COUNTRY_NAME='Belize', ORIGIN_COUNTRY_NAME='United States', count=188),\n Row(DEST_COUNTRY_NAME='United States', ORIGIN_COUNTRY_NAME='Ghana', count=20),\n Row(DEST_COUNTRY_NAME='United States', ORIGIN_COUNTRY_NAME='Indonesia', count=2),\n Row(DEST_COUNTRY_NAME='United States', ORIGIN_COUNTRY_NAME='Fiji', count=25),\n Row(DEST_COUNTRY_NAME='United States', ORIGIN_COUNTRY_NAME='Canada', count=8483),\n Row(DEST_COUNTRY_NAME='United States', ORIGIN_COUNTRY_NAME='Antigua and Barbuda', count=117),\n Row(DEST_COUNTRY_NAME='United States', ORIGIN_COUNTRY_NAME='French Polynesia', count=40),\n Row(DEST_COUNTRY_NAME='Nicaragua', ORIGIN_COUNTRY_NAME='United States', count=179),\n Row(DEST_COUNTRY_NAME='United States', ORIGIN_COUNTRY_NAME='Latvia', count=15),\n Row(DEST_COUNTRY_NAME='United States', ORIGIN_COUNTRY_NAME='Dominica', count=27),\n Row(DEST_COUNTRY_NAME='United States', ORIGIN_COUNTRY_NAME='Czech Republic', count=12),\n Row(DEST_COUNTRY_NAME='United States', ORIGIN_COUNTRY_NAME='Australia', count=258),\n Row(DEST_COUNTRY_NAME='United States', ORIGIN_COUNTRY_NAME='Cook Islands', count=13),\n Row(DEST_COUNTRY_NAME='Austria', ORIGIN_COUNTRY_NAME='United States', count=62),\n Row(DEST_COUNTRY_NAME='Jordan', ORIGIN_COUNTRY_NAME='United States', count=44),\n Row(DEST_COUNTRY_NAME='Palau', ORIGIN_COUNTRY_NAME='United States', count=30),\n Row(DEST_COUNTRY_NAME='South Korea', ORIGIN_COUNTRY_NAME='United States', count=1048),\n Row(DEST_COUNTRY_NAME='Angola', ORIGIN_COUNTRY_NAME='United States', count=15),\n Row(DEST_COUNTRY_NAME='Ghana', ORIGIN_COUNTRY_NAME='United States', count=18),\n Row(DEST_COUNTRY_NAME='New Caledonia', ORIGIN_COUNTRY_NAME='United States', count=1),\n Row(DEST_COUNTRY_NAME='Guadeloupe', ORIGIN_COUNTRY_NAME='United States', count=56),\n Row(DEST_COUNTRY_NAME='France', ORIGIN_COUNTRY_NAME='United States', count=935),\n Row(DEST_COUNTRY_NAME='Poland', ORIGIN_COUNTRY_NAME='United States', count=32),\n Row(DEST_COUNTRY_NAME='Nigeria', ORIGIN_COUNTRY_NAME='United States', count=59),\n Row(DEST_COUNTRY_NAME='United States', ORIGIN_COUNTRY_NAME='Uruguay', count=13),\n Row(DEST_COUNTRY_NAME='Greenland', ORIGIN_COUNTRY_NAME='United States', count=2),\n Row(DEST_COUNTRY_NAME='United States', ORIGIN_COUNTRY_NAME='Bermuda', count=193),\n Row(DEST_COUNTRY_NAME='Chile', ORIGIN_COUNTRY_NAME='United States', count=174),\n Row(DEST_COUNTRY_NAME='United States', ORIGIN_COUNTRY_NAME='Cuba', count=478),\n Row(DEST_COUNTRY_NAME='United States', ORIGIN_COUNTRY_NAME='Montenegro', count=1),\n Row(DEST_COUNTRY_NAME='United States', ORIGIN_COUNTRY_NAME='Colombia', count=867),\n Row(DEST_COUNTRY_NAME='United States', ORIGIN_COUNTRY_NAME='Barbados', count=130),\n Row(DEST_COUNTRY_NAME='United States', ORIGIN_COUNTRY_NAME='Qatar', count=109),\n Row(DEST_COUNTRY_NAME='Australia', ORIGIN_COUNTRY_NAME='United States', count=329),\n Row(DEST_COUNTRY_NAME='United States', ORIGIN_COUNTRY_NAME='Cayman Islands', count=310),\n Row(DEST_COUNTRY_NAME='United States', ORIGIN_COUNTRY_NAME='Jordan', count=44),\n Row(DEST_COUNTRY_NAME='United States', ORIGIN_COUNTRY_NAME='Namibia', count=1),\n Row(DEST_COUNTRY_NAME='United States', ORIGIN_COUNTRY_NAME='Trinidad and Tobago', count=217),\n Row(DEST_COUNTRY_NAME='United States', ORIGIN_COUNTRY_NAME='Bolivia', count=13),\n Row(DEST_COUNTRY_NAME='Cook Islands', ORIGIN_COUNTRY_NAME='United States', count=13),\n Row(DEST_COUNTRY_NAME='Bulgaria', ORIGIN_COUNTRY_NAME='United States', count=3),\n Row(DEST_COUNTRY_NAME='United States', ORIGIN_COUNTRY_NAME='Saint Kitts and Nevis', count=145),\n Row(DEST_COUNTRY_NAME='Uruguay', ORIGIN_COUNTRY_NAME='United States', count=43),\n Row(DEST_COUNTRY_NAME='United States', ORIGIN_COUNTRY_NAME='Haiti', count=225),\n Row(DEST_COUNTRY_NAME='Bonaire, Sint Eustatius, and Saba', ORIGIN_COUNTRY_NAME='United States', count=58),\n Row(DEST_COUNTRY_NAME='Greece', ORIGIN_COUNTRY_NAME='United States', count=30)]"
     ]
    }
   ],
   "source": [
    "df.collect()"
   ]
  },
  {
   "cell_type": "markdown",
   "metadata": {
    "application/vnd.databricks.v1+cell": {
     "cellMetadata": {},
     "inputWidgets": {},
     "nuid": "023d5986-e397-4254-9a86-b6ee2378081d",
     "showTitle": false,
     "tableResultSettingsMap": {},
     "title": ""
    }
   },
   "source": [
    "# Data Frame and SQL"
   ]
  },
  {
   "cell_type": "markdown",
   "metadata": {
    "application/vnd.databricks.v1+cell": {
     "cellMetadata": {},
     "inputWidgets": {},
     "nuid": "b0ed7668-556f-4a8f-8fdb-afa8fe5a25a3",
     "showTitle": false,
     "tableResultSettingsMap": {},
     "title": ""
    }
   },
   "source": [
    "The main point is that in Apache Spark, you can express the same data transformations in two ways:\n",
    "- Using DataFrame API (in Python, R, Scala, or Java)\n",
    "- Using SQL queries\n",
    "Both approaches compile to the same underlying execution plan, meaning there's no performance difference between them. This gives you flexibility to use whichever approach you prefer."
   ]
  },
  {
   "cell_type": "markdown",
   "metadata": {
    "application/vnd.databricks.v1+cell": {
     "cellMetadata": {},
     "inputWidgets": {},
     "nuid": "073b2ecc-68e0-4251-a6bf-42eae7fef225",
     "showTitle": false,
     "tableResultSettingsMap": {},
     "title": ""
    }
   },
   "source": [
    "\n",
    "> **How to use SQL queries on DataFrame**"
   ]
  },
  {
   "cell_type": "markdown",
   "metadata": {
    "application/vnd.databricks.v1+cell": {
     "cellMetadata": {},
     "inputWidgets": {},
     "nuid": "b4530549-ce86-43dd-86c6-79cc9e0dc7eb",
     "showTitle": false,
     "tableResultSettingsMap": {},
     "title": ""
    }
   },
   "source": [
    "First register your DataFrame as a temporary view\\\n",
    "then use SQL API and you can query the data\\\n",
    "and the query results are by default sore in _sql+'var_name' which can again used back by python to perform operations"
   ]
  },
  {
   "cell_type": "code",
   "execution_count": 0,
   "metadata": {
    "application/vnd.databricks.v1+cell": {
     "cellMetadata": {
      "byteLimit": 2048000,
      "implicitDf": true,
      "rowLimit": 10000
     },
     "inputWidgets": {},
     "nuid": "5f0a9260-0603-4f25-8a21-4781baeb3f03",
     "showTitle": false,
     "tableResultSettingsMap": {},
     "title": ""
    }
   },
   "outputs": [],
   "source": [
    "df.createOrReplaceTempView(\"df\") #register your DataFrame as a temporary view"
   ]
  },
  {
   "cell_type": "code",
   "execution_count": 0,
   "metadata": {
    "application/vnd.databricks.v1+cell": {
     "cellMetadata": {
      "byteLimit": 2048000,
      "implicitDf": true,
      "rowLimit": 10000
     },
     "inputWidgets": {},
     "nuid": "b12d35c3-4ede-4d59-a50d-d1d4f60eed22",
     "showTitle": false,
     "tableResultSettingsMap": {},
     "title": ""
    }
   },
   "outputs": [
    {
     "output_type": "display_data",
     "data": {
      "text/html": [
       "<style scoped>\n",
       "  .table-result-container {\n",
       "    max-height: 300px;\n",
       "    overflow: auto;\n",
       "  }\n",
       "  table, th, td {\n",
       "    border: 1px solid black;\n",
       "    border-collapse: collapse;\n",
       "  }\n",
       "  th, td {\n",
       "    padding: 5px;\n",
       "  }\n",
       "  th {\n",
       "    text-align: left;\n",
       "  }\n",
       "</style><div class='table-result-container'><table class='table-result'><thead style='background-color: white'><tr><th>DEST_COUNTRY_NAME</th><th>ORIGIN_COUNTRY_NAME</th><th>count</th></tr></thead><tbody><tr><td>United States</td><td>Romania</td><td>15</td></tr><tr><td>United States</td><td>Croatia</td><td>1</td></tr><tr><td>United States</td><td>Ireland</td><td>344</td></tr><tr><td>Egypt</td><td>United States</td><td>15</td></tr><tr><td>United States</td><td>India</td><td>62</td></tr><tr><td>United States</td><td>Singapore</td><td>1</td></tr><tr><td>United States</td><td>Grenada</td><td>62</td></tr><tr><td>Costa Rica</td><td>United States</td><td>588</td></tr><tr><td>Senegal</td><td>United States</td><td>40</td></tr><tr><td>Moldova</td><td>United States</td><td>1</td></tr><tr><td>United States</td><td>Sint Maarten</td><td>325</td></tr><tr><td>United States</td><td>Marshall Islands</td><td>39</td></tr><tr><td>Guyana</td><td>United States</td><td>64</td></tr><tr><td>Malta</td><td>United States</td><td>1</td></tr><tr><td>Anguilla</td><td>United States</td><td>41</td></tr><tr><td>Bolivia</td><td>United States</td><td>30</td></tr><tr><td>United States</td><td>Paraguay</td><td>6</td></tr><tr><td>Algeria</td><td>United States</td><td>4</td></tr><tr><td>Turks and Caicos Islands</td><td>United States</td><td>230</td></tr><tr><td>United States</td><td>Gibraltar</td><td>1</td></tr><tr><td>Saint Vincent and the Grenadines</td><td>United States</td><td>1</td></tr><tr><td>Italy</td><td>United States</td><td>382</td></tr><tr><td>United States</td><td>Federated States of Micronesia</td><td>69</td></tr><tr><td>United States</td><td>Russia</td><td>161</td></tr><tr><td>Pakistan</td><td>United States</td><td>12</td></tr><tr><td>United States</td><td>Netherlands</td><td>660</td></tr><tr><td>Iceland</td><td>United States</td><td>181</td></tr><tr><td>Marshall Islands</td><td>United States</td><td>42</td></tr><tr><td>Luxembourg</td><td>United States</td><td>155</td></tr><tr><td>Honduras</td><td>United States</td><td>362</td></tr><tr><td>The Bahamas</td><td>United States</td><td>955</td></tr><tr><td>United States</td><td>Senegal</td><td>42</td></tr><tr><td>El Salvador</td><td>United States</td><td>561</td></tr><tr><td>Samoa</td><td>United States</td><td>25</td></tr><tr><td>United States</td><td>Angola</td><td>13</td></tr><tr><td>Switzerland</td><td>United States</td><td>294</td></tr><tr><td>United States</td><td>Anguilla</td><td>38</td></tr><tr><td>Sint Maarten</td><td>United States</td><td>325</td></tr><tr><td>Hong Kong</td><td>United States</td><td>332</td></tr><tr><td>Trinidad and Tobago</td><td>United States</td><td>211</td></tr><tr><td>Latvia</td><td>United States</td><td>19</td></tr><tr><td>United States</td><td>Ecuador</td><td>300</td></tr><tr><td>Suriname</td><td>United States</td><td>1</td></tr><tr><td>Mexico</td><td>United States</td><td>7140</td></tr><tr><td>United States</td><td>Cyprus</td><td>1</td></tr><tr><td>Ecuador</td><td>United States</td><td>268</td></tr><tr><td>United States</td><td>Portugal</td><td>134</td></tr><tr><td>United States</td><td>Costa Rica</td><td>608</td></tr><tr><td>United States</td><td>Guatemala</td><td>318</td></tr><tr><td>United States</td><td>Suriname</td><td>34</td></tr><tr><td>Colombia</td><td>United States</td><td>873</td></tr><tr><td>United States</td><td>Cape Verde</td><td>14</td></tr><tr><td>United States</td><td>Jamaica</td><td>712</td></tr><tr><td>Norway</td><td>United States</td><td>121</td></tr><tr><td>United States</td><td>Malaysia</td><td>3</td></tr><tr><td>United States</td><td>Morocco</td><td>19</td></tr><tr><td>Thailand</td><td>United States</td><td>3</td></tr><tr><td>United States</td><td>Samoa</td><td>25</td></tr><tr><td>Venezuela</td><td>United States</td><td>290</td></tr><tr><td>United States</td><td>Palau</td><td>31</td></tr><tr><td>United States</td><td>Venezuela</td><td>246</td></tr><tr><td>Panama</td><td>United States</td><td>510</td></tr><tr><td>Antigua and Barbuda</td><td>United States</td><td>126</td></tr><tr><td>United States</td><td>Chile</td><td>185</td></tr><tr><td>Morocco</td><td>United States</td><td>15</td></tr><tr><td>United States</td><td>Finland</td><td>28</td></tr><tr><td>Azerbaijan</td><td>United States</td><td>21</td></tr><tr><td>United States</td><td>Greece</td><td>23</td></tr><tr><td>United States</td><td>The Bahamas</td><td>986</td></tr><tr><td>New Zealand</td><td>United States</td><td>111</td></tr><tr><td>Liberia</td><td>United States</td><td>2</td></tr><tr><td>United States</td><td>Hong Kong</td><td>414</td></tr><tr><td>Hungary</td><td>United States</td><td>2</td></tr><tr><td>United States</td><td>China</td><td>920</td></tr><tr><td>United States</td><td>Vietnam</td><td>2</td></tr><tr><td>Burkina Faso</td><td>United States</td><td>1</td></tr><tr><td>Sweden</td><td>United States</td><td>118</td></tr><tr><td>United States</td><td>Kuwait</td><td>28</td></tr><tr><td>United States</td><td>Dominican Republic</td><td>1420</td></tr><tr><td>United States</td><td>Egypt</td><td>12</td></tr><tr><td>Israel</td><td>United States</td><td>134</td></tr><tr><td>United States</td><td>United States</td><td>370002</td></tr><tr><td>Ethiopia</td><td>United States</td><td>13</td></tr><tr><td>United States</td><td>Luxembourg</td><td>134</td></tr><tr><td>United States</td><td>Poland</td><td>33</td></tr><tr><td>Martinique</td><td>United States</td><td>44</td></tr><tr><td>United States</td><td>Saint Barthelemy</td><td>41</td></tr><tr><td>Saint Barthelemy</td><td>United States</td><td>39</td></tr><tr><td>Barbados</td><td>United States</td><td>154</td></tr><tr><td>United States</td><td>Turkey</td><td>129</td></tr><tr><td>Djibouti</td><td>United States</td><td>1</td></tr><tr><td>United States</td><td>Azerbaijan</td><td>21</td></tr><tr><td>United States</td><td>Estonia</td><td>1</td></tr><tr><td>Germany</td><td>United States</td><td>1468</td></tr><tr><td>United States</td><td>South Korea</td><td>827</td></tr><tr><td>United States</td><td>El Salvador</td><td>508</td></tr><tr><td>Ireland</td><td>United States</td><td>335</td></tr><tr><td>United States</td><td>Hungary</td><td>3</td></tr><tr><td>Zambia</td><td>United States</td><td>1</td></tr><tr><td>Malaysia</td><td>United States</td><td>2</td></tr><tr><td>United States</td><td>Ethiopia</td><td>12</td></tr><tr><td>United States</td><td>Panama</td><td>465</td></tr><tr><td>United States</td><td>Aruba</td><td>342</td></tr><tr><td>United States</td><td>Thailand</td><td>4</td></tr><tr><td>United States</td><td>Turks and Caicos Islands</td><td>236</td></tr><tr><td>Croatia</td><td>United States</td><td>2</td></tr><tr><td>United States</td><td>Pakistan</td><td>12</td></tr><tr><td>Cyprus</td><td>United States</td><td>1</td></tr><tr><td>United States</td><td>Honduras</td><td>407</td></tr><tr><td>Fiji</td><td>United States</td><td>24</td></tr><tr><td>Qatar</td><td>United States</td><td>108</td></tr><tr><td>Saint Kitts and Nevis</td><td>United States</td><td>139</td></tr><tr><td>Kuwait</td><td>United States</td><td>32</td></tr><tr><td>Taiwan</td><td>United States</td><td>266</td></tr><tr><td>Haiti</td><td>United States</td><td>226</td></tr><tr><td>Canada</td><td>United States</td><td>8399</td></tr><tr><td>Federated States of Micronesia</td><td>United States</td><td>69</td></tr><tr><td>United States</td><td>Liberia</td><td>2</td></tr><tr><td>Jamaica</td><td>United States</td><td>666</td></tr><tr><td>United States</td><td>Malta</td><td>2</td></tr><tr><td>Dominican Republic</td><td>United States</td><td>1353</td></tr><tr><td>Japan</td><td>United States</td><td>1548</td></tr><tr><td>United States</td><td>Lithuania</td><td>1</td></tr><tr><td>Finland</td><td>United States</td><td>26</td></tr><tr><td>United States</td><td>Guadeloupe</td><td>59</td></tr><tr><td>United States</td><td>Ukraine</td><td>13</td></tr><tr><td>United States</td><td>France</td><td>952</td></tr><tr><td>United States</td><td>Norway</td><td>115</td></tr><tr><td>Aruba</td><td>United States</td><td>346</td></tr><tr><td>French Guiana</td><td>United States</td><td>5</td></tr><tr><td>United States</td><td>Kiribati</td><td>35</td></tr><tr><td>India</td><td>United States</td><td>61</td></tr><tr><td>British Virgin Islands</td><td>United States</td><td>107</td></tr><tr><td>Brazil</td><td>United States</td><td>853</td></tr><tr><td>United States</td><td>Germany</td><td>1336</td></tr><tr><td>United States</td><td>New Zealand</td><td>74</td></tr><tr><td>French Polynesia</td><td>United States</td><td>43</td></tr><tr><td>United Arab Emirates</td><td>United States</td><td>320</td></tr><tr><td>Singapore</td><td>United States</td><td>3</td></tr><tr><td>United States</td><td>Mexico</td><td>7187</td></tr><tr><td>United States</td><td>Sweden</td><td>119</td></tr><tr><td>Netherlands</td><td>United States</td><td>776</td></tr><tr><td>United States</td><td>Martinique</td><td>43</td></tr><tr><td>United States</td><td>United Arab Emirates</td><td>313</td></tr><tr><td>United States</td><td>Bulgaria</td><td>1</td></tr><tr><td>Denmark</td><td>United States</td><td>153</td></tr><tr><td>China</td><td>United States</td><td>772</td></tr><tr><td>United States</td><td>Nicaragua</td><td>201</td></tr><tr><td>United States</td><td>Philippines</td><td>126</td></tr><tr><td>United States</td><td>Georgia</td><td>1</td></tr><tr><td>United States</td><td>Belgium</td><td>228</td></tr><tr><td>Cayman Islands</td><td>United States</td><td>314</td></tr><tr><td>Argentina</td><td>United States</td><td>180</td></tr><tr><td>Peru</td><td>United States</td><td>279</td></tr><tr><td>South Africa</td><td>United States</td><td>36</td></tr><tr><td>United States</td><td>Iceland</td><td>202</td></tr><tr><td>United States</td><td>Argentina</td><td>141</td></tr><tr><td>Spain</td><td>United States</td><td>420</td></tr><tr><td>Bermuda</td><td>United States</td><td>183</td></tr><tr><td>United States</td><td>Nigeria</td><td>50</td></tr><tr><td>United States</td><td>Austria</td><td>63</td></tr><tr><td>United States</td><td>Bonaire, Sint Eustatius, and Saba</td><td>59</td></tr><tr><td>Kiribati</td><td>United States</td><td>26</td></tr><tr><td>Saudi Arabia</td><td>United States</td><td>83</td></tr><tr><td>Czech Republic</td><td>United States</td><td>13</td></tr><tr><td>United States</td><td>Israel</td><td>127</td></tr><tr><td>Belgium</td><td>United States</td><td>259</td></tr><tr><td>United States</td><td>Saint Lucia</td><td>136</td></tr><tr><td>United States</td><td>Bahrain</td><td>1</td></tr><tr><td>United States</td><td>British Virgin Islands</td><td>80</td></tr><tr><td>Curacao</td><td>United States</td><td>90</td></tr><tr><td>Georgia</td><td>United States</td><td>2</td></tr><tr><td>United States</td><td>Denmark</td><td>152</td></tr><tr><td>United States</td><td>Guyana</td><td>63</td></tr><tr><td>Philippines</td><td>United States</td><td>134</td></tr><tr><td>Grenada</td><td>United States</td><td>53</td></tr><tr><td>Cape Verde</td><td>United States</td><td>20</td></tr><tr><td>Cote d'Ivoire</td><td>United States</td><td>1</td></tr><tr><td>Ukraine</td><td>United States</td><td>14</td></tr><tr><td>United States</td><td>Papua New Guinea</td><td>1</td></tr><tr><td>Russia</td><td>United States</td><td>176</td></tr><tr><td>United States</td><td>Saudi Arabia</td><td>70</td></tr><tr><td>Guatemala</td><td>United States</td><td>397</td></tr><tr><td>Saint Lucia</td><td>United States</td><td>123</td></tr><tr><td>Paraguay</td><td>United States</td><td>60</td></tr><tr><td>United States</td><td>Curacao</td><td>83</td></tr><tr><td>Kosovo</td><td>United States</td><td>1</td></tr><tr><td>United States</td><td>Taiwan</td><td>235</td></tr><tr><td>Tunisia</td><td>United States</td><td>3</td></tr><tr><td>United States</td><td>South Africa</td><td>40</td></tr><tr><td>Niger</td><td>United States</td><td>2</td></tr><tr><td>Turkey</td><td>United States</td><td>138</td></tr><tr><td>United Kingdom</td><td>United States</td><td>2025</td></tr><tr><td>Romania</td><td>United States</td><td>14</td></tr><tr><td>United States</td><td>Greenland</td><td>4</td></tr><tr><td>Papua New Guinea</td><td>United States</td><td>3</td></tr><tr><td>United States</td><td>Spain</td><td>442</td></tr><tr><td>Iraq</td><td>United States</td><td>1</td></tr><tr><td>United States</td><td>Italy</td><td>438</td></tr><tr><td>Cuba</td><td>United States</td><td>466</td></tr><tr><td>United States</td><td>Switzerland</td><td>305</td></tr><tr><td>Dominica</td><td>United States</td><td>20</td></tr><tr><td>United States</td><td>Japan</td><td>1496</td></tr><tr><td>Portugal</td><td>United States</td><td>127</td></tr><tr><td>United States</td><td>Brazil</td><td>619</td></tr><tr><td>Bahrain</td><td>United States</td><td>19</td></tr><tr><td>United States</td><td>Peru</td><td>337</td></tr><tr><td>Indonesia</td><td>United States</td><td>1</td></tr><tr><td>United States</td><td>Belize</td><td>193</td></tr><tr><td>United States</td><td>United Kingdom</td><td>1970</td></tr><tr><td>Belize</td><td>United States</td><td>188</td></tr><tr><td>United States</td><td>Ghana</td><td>20</td></tr><tr><td>United States</td><td>Indonesia</td><td>2</td></tr><tr><td>United States</td><td>Fiji</td><td>25</td></tr><tr><td>United States</td><td>Canada</td><td>8483</td></tr><tr><td>United States</td><td>Antigua and Barbuda</td><td>117</td></tr><tr><td>United States</td><td>French Polynesia</td><td>40</td></tr><tr><td>Nicaragua</td><td>United States</td><td>179</td></tr><tr><td>United States</td><td>Latvia</td><td>15</td></tr><tr><td>United States</td><td>Dominica</td><td>27</td></tr><tr><td>United States</td><td>Czech Republic</td><td>12</td></tr><tr><td>United States</td><td>Australia</td><td>258</td></tr><tr><td>United States</td><td>Cook Islands</td><td>13</td></tr><tr><td>Austria</td><td>United States</td><td>62</td></tr><tr><td>Jordan</td><td>United States</td><td>44</td></tr><tr><td>Palau</td><td>United States</td><td>30</td></tr><tr><td>South Korea</td><td>United States</td><td>1048</td></tr><tr><td>Angola</td><td>United States</td><td>15</td></tr><tr><td>Ghana</td><td>United States</td><td>18</td></tr><tr><td>New Caledonia</td><td>United States</td><td>1</td></tr><tr><td>Guadeloupe</td><td>United States</td><td>56</td></tr><tr><td>France</td><td>United States</td><td>935</td></tr><tr><td>Poland</td><td>United States</td><td>32</td></tr><tr><td>Nigeria</td><td>United States</td><td>59</td></tr><tr><td>United States</td><td>Uruguay</td><td>13</td></tr><tr><td>Greenland</td><td>United States</td><td>2</td></tr><tr><td>United States</td><td>Bermuda</td><td>193</td></tr><tr><td>Chile</td><td>United States</td><td>174</td></tr><tr><td>United States</td><td>Cuba</td><td>478</td></tr><tr><td>United States</td><td>Montenegro</td><td>1</td></tr><tr><td>United States</td><td>Colombia</td><td>867</td></tr><tr><td>United States</td><td>Barbados</td><td>130</td></tr><tr><td>United States</td><td>Qatar</td><td>109</td></tr><tr><td>Australia</td><td>United States</td><td>329</td></tr><tr><td>United States</td><td>Cayman Islands</td><td>310</td></tr><tr><td>United States</td><td>Jordan</td><td>44</td></tr><tr><td>United States</td><td>Namibia</td><td>1</td></tr><tr><td>United States</td><td>Trinidad and Tobago</td><td>217</td></tr><tr><td>United States</td><td>Bolivia</td><td>13</td></tr><tr><td>Cook Islands</td><td>United States</td><td>13</td></tr><tr><td>Bulgaria</td><td>United States</td><td>3</td></tr><tr><td>United States</td><td>Saint Kitts and Nevis</td><td>145</td></tr><tr><td>Uruguay</td><td>United States</td><td>43</td></tr><tr><td>United States</td><td>Haiti</td><td>225</td></tr><tr><td>Bonaire, Sint Eustatius, and Saba</td><td>United States</td><td>58</td></tr><tr><td>Greece</td><td>United States</td><td>30</td></tr></tbody></table></div>"
      ]
     },
     "metadata": {
      "application/vnd.databricks.v1+output": {
       "addedWidgets": {},
       "aggData": [],
       "aggError": "",
       "aggOverflow": false,
       "aggSchema": [],
       "aggSeriesLimitReached": false,
       "aggType": "",
       "arguments": {},
       "columnCustomDisplayInfos": {},
       "data": [
        [
         "United States",
         "Romania",
         15
        ],
        [
         "United States",
         "Croatia",
         1
        ],
        [
         "United States",
         "Ireland",
         344
        ],
        [
         "Egypt",
         "United States",
         15
        ],
        [
         "United States",
         "India",
         62
        ],
        [
         "United States",
         "Singapore",
         1
        ],
        [
         "United States",
         "Grenada",
         62
        ],
        [
         "Costa Rica",
         "United States",
         588
        ],
        [
         "Senegal",
         "United States",
         40
        ],
        [
         "Moldova",
         "United States",
         1
        ],
        [
         "United States",
         "Sint Maarten",
         325
        ],
        [
         "United States",
         "Marshall Islands",
         39
        ],
        [
         "Guyana",
         "United States",
         64
        ],
        [
         "Malta",
         "United States",
         1
        ],
        [
         "Anguilla",
         "United States",
         41
        ],
        [
         "Bolivia",
         "United States",
         30
        ],
        [
         "United States",
         "Paraguay",
         6
        ],
        [
         "Algeria",
         "United States",
         4
        ],
        [
         "Turks and Caicos Islands",
         "United States",
         230
        ],
        [
         "United States",
         "Gibraltar",
         1
        ],
        [
         "Saint Vincent and the Grenadines",
         "United States",
         1
        ],
        [
         "Italy",
         "United States",
         382
        ],
        [
         "United States",
         "Federated States of Micronesia",
         69
        ],
        [
         "United States",
         "Russia",
         161
        ],
        [
         "Pakistan",
         "United States",
         12
        ],
        [
         "United States",
         "Netherlands",
         660
        ],
        [
         "Iceland",
         "United States",
         181
        ],
        [
         "Marshall Islands",
         "United States",
         42
        ],
        [
         "Luxembourg",
         "United States",
         155
        ],
        [
         "Honduras",
         "United States",
         362
        ],
        [
         "The Bahamas",
         "United States",
         955
        ],
        [
         "United States",
         "Senegal",
         42
        ],
        [
         "El Salvador",
         "United States",
         561
        ],
        [
         "Samoa",
         "United States",
         25
        ],
        [
         "United States",
         "Angola",
         13
        ],
        [
         "Switzerland",
         "United States",
         294
        ],
        [
         "United States",
         "Anguilla",
         38
        ],
        [
         "Sint Maarten",
         "United States",
         325
        ],
        [
         "Hong Kong",
         "United States",
         332
        ],
        [
         "Trinidad and Tobago",
         "United States",
         211
        ],
        [
         "Latvia",
         "United States",
         19
        ],
        [
         "United States",
         "Ecuador",
         300
        ],
        [
         "Suriname",
         "United States",
         1
        ],
        [
         "Mexico",
         "United States",
         7140
        ],
        [
         "United States",
         "Cyprus",
         1
        ],
        [
         "Ecuador",
         "United States",
         268
        ],
        [
         "United States",
         "Portugal",
         134
        ],
        [
         "United States",
         "Costa Rica",
         608
        ],
        [
         "United States",
         "Guatemala",
         318
        ],
        [
         "United States",
         "Suriname",
         34
        ],
        [
         "Colombia",
         "United States",
         873
        ],
        [
         "United States",
         "Cape Verde",
         14
        ],
        [
         "United States",
         "Jamaica",
         712
        ],
        [
         "Norway",
         "United States",
         121
        ],
        [
         "United States",
         "Malaysia",
         3
        ],
        [
         "United States",
         "Morocco",
         19
        ],
        [
         "Thailand",
         "United States",
         3
        ],
        [
         "United States",
         "Samoa",
         25
        ],
        [
         "Venezuela",
         "United States",
         290
        ],
        [
         "United States",
         "Palau",
         31
        ],
        [
         "United States",
         "Venezuela",
         246
        ],
        [
         "Panama",
         "United States",
         510
        ],
        [
         "Antigua and Barbuda",
         "United States",
         126
        ],
        [
         "United States",
         "Chile",
         185
        ],
        [
         "Morocco",
         "United States",
         15
        ],
        [
         "United States",
         "Finland",
         28
        ],
        [
         "Azerbaijan",
         "United States",
         21
        ],
        [
         "United States",
         "Greece",
         23
        ],
        [
         "United States",
         "The Bahamas",
         986
        ],
        [
         "New Zealand",
         "United States",
         111
        ],
        [
         "Liberia",
         "United States",
         2
        ],
        [
         "United States",
         "Hong Kong",
         414
        ],
        [
         "Hungary",
         "United States",
         2
        ],
        [
         "United States",
         "China",
         920
        ],
        [
         "United States",
         "Vietnam",
         2
        ],
        [
         "Burkina Faso",
         "United States",
         1
        ],
        [
         "Sweden",
         "United States",
         118
        ],
        [
         "United States",
         "Kuwait",
         28
        ],
        [
         "United States",
         "Dominican Republic",
         1420
        ],
        [
         "United States",
         "Egypt",
         12
        ],
        [
         "Israel",
         "United States",
         134
        ],
        [
         "United States",
         "United States",
         370002
        ],
        [
         "Ethiopia",
         "United States",
         13
        ],
        [
         "United States",
         "Luxembourg",
         134
        ],
        [
         "United States",
         "Poland",
         33
        ],
        [
         "Martinique",
         "United States",
         44
        ],
        [
         "United States",
         "Saint Barthelemy",
         41
        ],
        [
         "Saint Barthelemy",
         "United States",
         39
        ],
        [
         "Barbados",
         "United States",
         154
        ],
        [
         "United States",
         "Turkey",
         129
        ],
        [
         "Djibouti",
         "United States",
         1
        ],
        [
         "United States",
         "Azerbaijan",
         21
        ],
        [
         "United States",
         "Estonia",
         1
        ],
        [
         "Germany",
         "United States",
         1468
        ],
        [
         "United States",
         "South Korea",
         827
        ],
        [
         "United States",
         "El Salvador",
         508
        ],
        [
         "Ireland",
         "United States",
         335
        ],
        [
         "United States",
         "Hungary",
         3
        ],
        [
         "Zambia",
         "United States",
         1
        ],
        [
         "Malaysia",
         "United States",
         2
        ],
        [
         "United States",
         "Ethiopia",
         12
        ],
        [
         "United States",
         "Panama",
         465
        ],
        [
         "United States",
         "Aruba",
         342
        ],
        [
         "United States",
         "Thailand",
         4
        ],
        [
         "United States",
         "Turks and Caicos Islands",
         236
        ],
        [
         "Croatia",
         "United States",
         2
        ],
        [
         "United States",
         "Pakistan",
         12
        ],
        [
         "Cyprus",
         "United States",
         1
        ],
        [
         "United States",
         "Honduras",
         407
        ],
        [
         "Fiji",
         "United States",
         24
        ],
        [
         "Qatar",
         "United States",
         108
        ],
        [
         "Saint Kitts and Nevis",
         "United States",
         139
        ],
        [
         "Kuwait",
         "United States",
         32
        ],
        [
         "Taiwan",
         "United States",
         266
        ],
        [
         "Haiti",
         "United States",
         226
        ],
        [
         "Canada",
         "United States",
         8399
        ],
        [
         "Federated States of Micronesia",
         "United States",
         69
        ],
        [
         "United States",
         "Liberia",
         2
        ],
        [
         "Jamaica",
         "United States",
         666
        ],
        [
         "United States",
         "Malta",
         2
        ],
        [
         "Dominican Republic",
         "United States",
         1353
        ],
        [
         "Japan",
         "United States",
         1548
        ],
        [
         "United States",
         "Lithuania",
         1
        ],
        [
         "Finland",
         "United States",
         26
        ],
        [
         "United States",
         "Guadeloupe",
         59
        ],
        [
         "United States",
         "Ukraine",
         13
        ],
        [
         "United States",
         "France",
         952
        ],
        [
         "United States",
         "Norway",
         115
        ],
        [
         "Aruba",
         "United States",
         346
        ],
        [
         "French Guiana",
         "United States",
         5
        ],
        [
         "United States",
         "Kiribati",
         35
        ],
        [
         "India",
         "United States",
         61
        ],
        [
         "British Virgin Islands",
         "United States",
         107
        ],
        [
         "Brazil",
         "United States",
         853
        ],
        [
         "United States",
         "Germany",
         1336
        ],
        [
         "United States",
         "New Zealand",
         74
        ],
        [
         "French Polynesia",
         "United States",
         43
        ],
        [
         "United Arab Emirates",
         "United States",
         320
        ],
        [
         "Singapore",
         "United States",
         3
        ],
        [
         "United States",
         "Mexico",
         7187
        ],
        [
         "United States",
         "Sweden",
         119
        ],
        [
         "Netherlands",
         "United States",
         776
        ],
        [
         "United States",
         "Martinique",
         43
        ],
        [
         "United States",
         "United Arab Emirates",
         313
        ],
        [
         "United States",
         "Bulgaria",
         1
        ],
        [
         "Denmark",
         "United States",
         153
        ],
        [
         "China",
         "United States",
         772
        ],
        [
         "United States",
         "Nicaragua",
         201
        ],
        [
         "United States",
         "Philippines",
         126
        ],
        [
         "United States",
         "Georgia",
         1
        ],
        [
         "United States",
         "Belgium",
         228
        ],
        [
         "Cayman Islands",
         "United States",
         314
        ],
        [
         "Argentina",
         "United States",
         180
        ],
        [
         "Peru",
         "United States",
         279
        ],
        [
         "South Africa",
         "United States",
         36
        ],
        [
         "United States",
         "Iceland",
         202
        ],
        [
         "United States",
         "Argentina",
         141
        ],
        [
         "Spain",
         "United States",
         420
        ],
        [
         "Bermuda",
         "United States",
         183
        ],
        [
         "United States",
         "Nigeria",
         50
        ],
        [
         "United States",
         "Austria",
         63
        ],
        [
         "United States",
         "Bonaire, Sint Eustatius, and Saba",
         59
        ],
        [
         "Kiribati",
         "United States",
         26
        ],
        [
         "Saudi Arabia",
         "United States",
         83
        ],
        [
         "Czech Republic",
         "United States",
         13
        ],
        [
         "United States",
         "Israel",
         127
        ],
        [
         "Belgium",
         "United States",
         259
        ],
        [
         "United States",
         "Saint Lucia",
         136
        ],
        [
         "United States",
         "Bahrain",
         1
        ],
        [
         "United States",
         "British Virgin Islands",
         80
        ],
        [
         "Curacao",
         "United States",
         90
        ],
        [
         "Georgia",
         "United States",
         2
        ],
        [
         "United States",
         "Denmark",
         152
        ],
        [
         "United States",
         "Guyana",
         63
        ],
        [
         "Philippines",
         "United States",
         134
        ],
        [
         "Grenada",
         "United States",
         53
        ],
        [
         "Cape Verde",
         "United States",
         20
        ],
        [
         "Cote d'Ivoire",
         "United States",
         1
        ],
        [
         "Ukraine",
         "United States",
         14
        ],
        [
         "United States",
         "Papua New Guinea",
         1
        ],
        [
         "Russia",
         "United States",
         176
        ],
        [
         "United States",
         "Saudi Arabia",
         70
        ],
        [
         "Guatemala",
         "United States",
         397
        ],
        [
         "Saint Lucia",
         "United States",
         123
        ],
        [
         "Paraguay",
         "United States",
         60
        ],
        [
         "United States",
         "Curacao",
         83
        ],
        [
         "Kosovo",
         "United States",
         1
        ],
        [
         "United States",
         "Taiwan",
         235
        ],
        [
         "Tunisia",
         "United States",
         3
        ],
        [
         "United States",
         "South Africa",
         40
        ],
        [
         "Niger",
         "United States",
         2
        ],
        [
         "Turkey",
         "United States",
         138
        ],
        [
         "United Kingdom",
         "United States",
         2025
        ],
        [
         "Romania",
         "United States",
         14
        ],
        [
         "United States",
         "Greenland",
         4
        ],
        [
         "Papua New Guinea",
         "United States",
         3
        ],
        [
         "United States",
         "Spain",
         442
        ],
        [
         "Iraq",
         "United States",
         1
        ],
        [
         "United States",
         "Italy",
         438
        ],
        [
         "Cuba",
         "United States",
         466
        ],
        [
         "United States",
         "Switzerland",
         305
        ],
        [
         "Dominica",
         "United States",
         20
        ],
        [
         "United States",
         "Japan",
         1496
        ],
        [
         "Portugal",
         "United States",
         127
        ],
        [
         "United States",
         "Brazil",
         619
        ],
        [
         "Bahrain",
         "United States",
         19
        ],
        [
         "United States",
         "Peru",
         337
        ],
        [
         "Indonesia",
         "United States",
         1
        ],
        [
         "United States",
         "Belize",
         193
        ],
        [
         "United States",
         "United Kingdom",
         1970
        ],
        [
         "Belize",
         "United States",
         188
        ],
        [
         "United States",
         "Ghana",
         20
        ],
        [
         "United States",
         "Indonesia",
         2
        ],
        [
         "United States",
         "Fiji",
         25
        ],
        [
         "United States",
         "Canada",
         8483
        ],
        [
         "United States",
         "Antigua and Barbuda",
         117
        ],
        [
         "United States",
         "French Polynesia",
         40
        ],
        [
         "Nicaragua",
         "United States",
         179
        ],
        [
         "United States",
         "Latvia",
         15
        ],
        [
         "United States",
         "Dominica",
         27
        ],
        [
         "United States",
         "Czech Republic",
         12
        ],
        [
         "United States",
         "Australia",
         258
        ],
        [
         "United States",
         "Cook Islands",
         13
        ],
        [
         "Austria",
         "United States",
         62
        ],
        [
         "Jordan",
         "United States",
         44
        ],
        [
         "Palau",
         "United States",
         30
        ],
        [
         "South Korea",
         "United States",
         1048
        ],
        [
         "Angola",
         "United States",
         15
        ],
        [
         "Ghana",
         "United States",
         18
        ],
        [
         "New Caledonia",
         "United States",
         1
        ],
        [
         "Guadeloupe",
         "United States",
         56
        ],
        [
         "France",
         "United States",
         935
        ],
        [
         "Poland",
         "United States",
         32
        ],
        [
         "Nigeria",
         "United States",
         59
        ],
        [
         "United States",
         "Uruguay",
         13
        ],
        [
         "Greenland",
         "United States",
         2
        ],
        [
         "United States",
         "Bermuda",
         193
        ],
        [
         "Chile",
         "United States",
         174
        ],
        [
         "United States",
         "Cuba",
         478
        ],
        [
         "United States",
         "Montenegro",
         1
        ],
        [
         "United States",
         "Colombia",
         867
        ],
        [
         "United States",
         "Barbados",
         130
        ],
        [
         "United States",
         "Qatar",
         109
        ],
        [
         "Australia",
         "United States",
         329
        ],
        [
         "United States",
         "Cayman Islands",
         310
        ],
        [
         "United States",
         "Jordan",
         44
        ],
        [
         "United States",
         "Namibia",
         1
        ],
        [
         "United States",
         "Trinidad and Tobago",
         217
        ],
        [
         "United States",
         "Bolivia",
         13
        ],
        [
         "Cook Islands",
         "United States",
         13
        ],
        [
         "Bulgaria",
         "United States",
         3
        ],
        [
         "United States",
         "Saint Kitts and Nevis",
         145
        ],
        [
         "Uruguay",
         "United States",
         43
        ],
        [
         "United States",
         "Haiti",
         225
        ],
        [
         "Bonaire, Sint Eustatius, and Saba",
         "United States",
         58
        ],
        [
         "Greece",
         "United States",
         30
        ]
       ],
       "datasetInfos": [],
       "dbfsResultPath": null,
       "isJsonSchema": true,
       "metadata": {},
       "overflow": false,
       "plotOptions": {
        "customPlotOptions": {},
        "displayType": "table",
        "pivotAggregation": null,
        "pivotColumns": null,
        "xColumns": null,
        "yColumns": null
       },
       "removedWidgets": [],
       "schema": [
        {
         "metadata": "{}",
         "name": "DEST_COUNTRY_NAME",
         "type": "\"string\""
        },
        {
         "metadata": "{}",
         "name": "ORIGIN_COUNTRY_NAME",
         "type": "\"string\""
        },
        {
         "metadata": "{}",
         "name": "count",
         "type": "\"integer\""
        }
       ],
       "type": "table"
      }
     },
     "output_type": "display_data"
    }
   ],
   "source": [
    "%sql\n",
    "select * from df  -- the query results are by default sore in _sql+'var_name' which can again used back by python to perform operations"
   ]
  },
  {
   "cell_type": "code",
   "execution_count": 0,
   "metadata": {
    "application/vnd.databricks.v1+cell": {
     "cellMetadata": {
      "byteLimit": 2048000,
      "rowLimit": 10000
     },
     "inputWidgets": {},
     "nuid": "e23d50d1-f236-42c7-bb5d-36fcfcc9bccf",
     "showTitle": false,
     "tableResultSettingsMap": {},
     "title": ""
    }
   },
   "outputs": [
    {
     "output_type": "display_data",
     "data": {
      "text/html": [
       "<style scoped>\n",
       "  .table-result-container {\n",
       "    max-height: 300px;\n",
       "    overflow: auto;\n",
       "  }\n",
       "  table, th, td {\n",
       "    border: 1px solid black;\n",
       "    border-collapse: collapse;\n",
       "  }\n",
       "  th, td {\n",
       "    padding: 5px;\n",
       "  }\n",
       "  th {\n",
       "    text-align: left;\n",
       "  }\n",
       "</style><div class='table-result-container'><table class='table-result'><thead style='background-color: white'><tr><th>DEST_COUNTRY_NAME</th><th>ORIGIN_COUNTRY_NAME</th><th>count</th></tr></thead><tbody><tr><td>United States</td><td>Romania</td><td>15</td></tr><tr><td>United States</td><td>Croatia</td><td>1</td></tr><tr><td>United States</td><td>Ireland</td><td>344</td></tr><tr><td>Egypt</td><td>United States</td><td>15</td></tr><tr><td>United States</td><td>India</td><td>62</td></tr><tr><td>United States</td><td>Singapore</td><td>1</td></tr><tr><td>United States</td><td>Grenada</td><td>62</td></tr><tr><td>Costa Rica</td><td>United States</td><td>588</td></tr><tr><td>Senegal</td><td>United States</td><td>40</td></tr><tr><td>Moldova</td><td>United States</td><td>1</td></tr><tr><td>United States</td><td>Sint Maarten</td><td>325</td></tr><tr><td>United States</td><td>Marshall Islands</td><td>39</td></tr><tr><td>Guyana</td><td>United States</td><td>64</td></tr><tr><td>Malta</td><td>United States</td><td>1</td></tr><tr><td>Anguilla</td><td>United States</td><td>41</td></tr><tr><td>Bolivia</td><td>United States</td><td>30</td></tr><tr><td>United States</td><td>Paraguay</td><td>6</td></tr><tr><td>Algeria</td><td>United States</td><td>4</td></tr><tr><td>Turks and Caicos Islands</td><td>United States</td><td>230</td></tr><tr><td>United States</td><td>Gibraltar</td><td>1</td></tr><tr><td>Saint Vincent and the Grenadines</td><td>United States</td><td>1</td></tr><tr><td>Italy</td><td>United States</td><td>382</td></tr><tr><td>United States</td><td>Federated States of Micronesia</td><td>69</td></tr><tr><td>United States</td><td>Russia</td><td>161</td></tr><tr><td>Pakistan</td><td>United States</td><td>12</td></tr><tr><td>United States</td><td>Netherlands</td><td>660</td></tr><tr><td>Iceland</td><td>United States</td><td>181</td></tr><tr><td>Marshall Islands</td><td>United States</td><td>42</td></tr><tr><td>Luxembourg</td><td>United States</td><td>155</td></tr><tr><td>Honduras</td><td>United States</td><td>362</td></tr><tr><td>The Bahamas</td><td>United States</td><td>955</td></tr><tr><td>United States</td><td>Senegal</td><td>42</td></tr><tr><td>El Salvador</td><td>United States</td><td>561</td></tr><tr><td>Samoa</td><td>United States</td><td>25</td></tr><tr><td>United States</td><td>Angola</td><td>13</td></tr><tr><td>Switzerland</td><td>United States</td><td>294</td></tr><tr><td>United States</td><td>Anguilla</td><td>38</td></tr><tr><td>Sint Maarten</td><td>United States</td><td>325</td></tr><tr><td>Hong Kong</td><td>United States</td><td>332</td></tr><tr><td>Trinidad and Tobago</td><td>United States</td><td>211</td></tr><tr><td>Latvia</td><td>United States</td><td>19</td></tr><tr><td>United States</td><td>Ecuador</td><td>300</td></tr><tr><td>Suriname</td><td>United States</td><td>1</td></tr><tr><td>Mexico</td><td>United States</td><td>7140</td></tr><tr><td>United States</td><td>Cyprus</td><td>1</td></tr><tr><td>Ecuador</td><td>United States</td><td>268</td></tr><tr><td>United States</td><td>Portugal</td><td>134</td></tr><tr><td>United States</td><td>Costa Rica</td><td>608</td></tr><tr><td>United States</td><td>Guatemala</td><td>318</td></tr><tr><td>United States</td><td>Suriname</td><td>34</td></tr><tr><td>Colombia</td><td>United States</td><td>873</td></tr><tr><td>United States</td><td>Cape Verde</td><td>14</td></tr><tr><td>United States</td><td>Jamaica</td><td>712</td></tr><tr><td>Norway</td><td>United States</td><td>121</td></tr><tr><td>United States</td><td>Malaysia</td><td>3</td></tr><tr><td>United States</td><td>Morocco</td><td>19</td></tr><tr><td>Thailand</td><td>United States</td><td>3</td></tr><tr><td>United States</td><td>Samoa</td><td>25</td></tr><tr><td>Venezuela</td><td>United States</td><td>290</td></tr><tr><td>United States</td><td>Palau</td><td>31</td></tr><tr><td>United States</td><td>Venezuela</td><td>246</td></tr><tr><td>Panama</td><td>United States</td><td>510</td></tr><tr><td>Antigua and Barbuda</td><td>United States</td><td>126</td></tr><tr><td>United States</td><td>Chile</td><td>185</td></tr><tr><td>Morocco</td><td>United States</td><td>15</td></tr><tr><td>United States</td><td>Finland</td><td>28</td></tr><tr><td>Azerbaijan</td><td>United States</td><td>21</td></tr><tr><td>United States</td><td>Greece</td><td>23</td></tr><tr><td>United States</td><td>The Bahamas</td><td>986</td></tr><tr><td>New Zealand</td><td>United States</td><td>111</td></tr><tr><td>Liberia</td><td>United States</td><td>2</td></tr><tr><td>United States</td><td>Hong Kong</td><td>414</td></tr><tr><td>Hungary</td><td>United States</td><td>2</td></tr><tr><td>United States</td><td>China</td><td>920</td></tr><tr><td>United States</td><td>Vietnam</td><td>2</td></tr><tr><td>Burkina Faso</td><td>United States</td><td>1</td></tr><tr><td>Sweden</td><td>United States</td><td>118</td></tr><tr><td>United States</td><td>Kuwait</td><td>28</td></tr><tr><td>United States</td><td>Dominican Republic</td><td>1420</td></tr><tr><td>United States</td><td>Egypt</td><td>12</td></tr><tr><td>Israel</td><td>United States</td><td>134</td></tr><tr><td>United States</td><td>United States</td><td>370002</td></tr><tr><td>Ethiopia</td><td>United States</td><td>13</td></tr><tr><td>United States</td><td>Luxembourg</td><td>134</td></tr><tr><td>United States</td><td>Poland</td><td>33</td></tr><tr><td>Martinique</td><td>United States</td><td>44</td></tr><tr><td>United States</td><td>Saint Barthelemy</td><td>41</td></tr><tr><td>Saint Barthelemy</td><td>United States</td><td>39</td></tr><tr><td>Barbados</td><td>United States</td><td>154</td></tr><tr><td>United States</td><td>Turkey</td><td>129</td></tr><tr><td>Djibouti</td><td>United States</td><td>1</td></tr><tr><td>United States</td><td>Azerbaijan</td><td>21</td></tr><tr><td>United States</td><td>Estonia</td><td>1</td></tr><tr><td>Germany</td><td>United States</td><td>1468</td></tr><tr><td>United States</td><td>South Korea</td><td>827</td></tr><tr><td>United States</td><td>El Salvador</td><td>508</td></tr><tr><td>Ireland</td><td>United States</td><td>335</td></tr><tr><td>United States</td><td>Hungary</td><td>3</td></tr><tr><td>Zambia</td><td>United States</td><td>1</td></tr><tr><td>Malaysia</td><td>United States</td><td>2</td></tr><tr><td>United States</td><td>Ethiopia</td><td>12</td></tr><tr><td>United States</td><td>Panama</td><td>465</td></tr><tr><td>United States</td><td>Aruba</td><td>342</td></tr><tr><td>United States</td><td>Thailand</td><td>4</td></tr><tr><td>United States</td><td>Turks and Caicos Islands</td><td>236</td></tr><tr><td>Croatia</td><td>United States</td><td>2</td></tr><tr><td>United States</td><td>Pakistan</td><td>12</td></tr><tr><td>Cyprus</td><td>United States</td><td>1</td></tr><tr><td>United States</td><td>Honduras</td><td>407</td></tr><tr><td>Fiji</td><td>United States</td><td>24</td></tr><tr><td>Qatar</td><td>United States</td><td>108</td></tr><tr><td>Saint Kitts and Nevis</td><td>United States</td><td>139</td></tr><tr><td>Kuwait</td><td>United States</td><td>32</td></tr><tr><td>Taiwan</td><td>United States</td><td>266</td></tr><tr><td>Haiti</td><td>United States</td><td>226</td></tr><tr><td>Canada</td><td>United States</td><td>8399</td></tr><tr><td>Federated States of Micronesia</td><td>United States</td><td>69</td></tr><tr><td>United States</td><td>Liberia</td><td>2</td></tr><tr><td>Jamaica</td><td>United States</td><td>666</td></tr><tr><td>United States</td><td>Malta</td><td>2</td></tr><tr><td>Dominican Republic</td><td>United States</td><td>1353</td></tr><tr><td>Japan</td><td>United States</td><td>1548</td></tr><tr><td>United States</td><td>Lithuania</td><td>1</td></tr><tr><td>Finland</td><td>United States</td><td>26</td></tr><tr><td>United States</td><td>Guadeloupe</td><td>59</td></tr><tr><td>United States</td><td>Ukraine</td><td>13</td></tr><tr><td>United States</td><td>France</td><td>952</td></tr><tr><td>United States</td><td>Norway</td><td>115</td></tr><tr><td>Aruba</td><td>United States</td><td>346</td></tr><tr><td>French Guiana</td><td>United States</td><td>5</td></tr><tr><td>United States</td><td>Kiribati</td><td>35</td></tr><tr><td>India</td><td>United States</td><td>61</td></tr><tr><td>British Virgin Islands</td><td>United States</td><td>107</td></tr><tr><td>Brazil</td><td>United States</td><td>853</td></tr><tr><td>United States</td><td>Germany</td><td>1336</td></tr><tr><td>United States</td><td>New Zealand</td><td>74</td></tr><tr><td>French Polynesia</td><td>United States</td><td>43</td></tr><tr><td>United Arab Emirates</td><td>United States</td><td>320</td></tr><tr><td>Singapore</td><td>United States</td><td>3</td></tr><tr><td>United States</td><td>Mexico</td><td>7187</td></tr><tr><td>United States</td><td>Sweden</td><td>119</td></tr><tr><td>Netherlands</td><td>United States</td><td>776</td></tr><tr><td>United States</td><td>Martinique</td><td>43</td></tr><tr><td>United States</td><td>United Arab Emirates</td><td>313</td></tr><tr><td>United States</td><td>Bulgaria</td><td>1</td></tr><tr><td>Denmark</td><td>United States</td><td>153</td></tr><tr><td>China</td><td>United States</td><td>772</td></tr><tr><td>United States</td><td>Nicaragua</td><td>201</td></tr><tr><td>United States</td><td>Philippines</td><td>126</td></tr><tr><td>United States</td><td>Georgia</td><td>1</td></tr><tr><td>United States</td><td>Belgium</td><td>228</td></tr><tr><td>Cayman Islands</td><td>United States</td><td>314</td></tr><tr><td>Argentina</td><td>United States</td><td>180</td></tr><tr><td>Peru</td><td>United States</td><td>279</td></tr><tr><td>South Africa</td><td>United States</td><td>36</td></tr><tr><td>United States</td><td>Iceland</td><td>202</td></tr><tr><td>United States</td><td>Argentina</td><td>141</td></tr><tr><td>Spain</td><td>United States</td><td>420</td></tr><tr><td>Bermuda</td><td>United States</td><td>183</td></tr><tr><td>United States</td><td>Nigeria</td><td>50</td></tr><tr><td>United States</td><td>Austria</td><td>63</td></tr><tr><td>United States</td><td>Bonaire, Sint Eustatius, and Saba</td><td>59</td></tr><tr><td>Kiribati</td><td>United States</td><td>26</td></tr><tr><td>Saudi Arabia</td><td>United States</td><td>83</td></tr><tr><td>Czech Republic</td><td>United States</td><td>13</td></tr><tr><td>United States</td><td>Israel</td><td>127</td></tr><tr><td>Belgium</td><td>United States</td><td>259</td></tr><tr><td>United States</td><td>Saint Lucia</td><td>136</td></tr><tr><td>United States</td><td>Bahrain</td><td>1</td></tr><tr><td>United States</td><td>British Virgin Islands</td><td>80</td></tr><tr><td>Curacao</td><td>United States</td><td>90</td></tr><tr><td>Georgia</td><td>United States</td><td>2</td></tr><tr><td>United States</td><td>Denmark</td><td>152</td></tr><tr><td>United States</td><td>Guyana</td><td>63</td></tr><tr><td>Philippines</td><td>United States</td><td>134</td></tr><tr><td>Grenada</td><td>United States</td><td>53</td></tr><tr><td>Cape Verde</td><td>United States</td><td>20</td></tr><tr><td>Cote d'Ivoire</td><td>United States</td><td>1</td></tr><tr><td>Ukraine</td><td>United States</td><td>14</td></tr><tr><td>United States</td><td>Papua New Guinea</td><td>1</td></tr><tr><td>Russia</td><td>United States</td><td>176</td></tr><tr><td>United States</td><td>Saudi Arabia</td><td>70</td></tr><tr><td>Guatemala</td><td>United States</td><td>397</td></tr><tr><td>Saint Lucia</td><td>United States</td><td>123</td></tr><tr><td>Paraguay</td><td>United States</td><td>60</td></tr><tr><td>United States</td><td>Curacao</td><td>83</td></tr><tr><td>Kosovo</td><td>United States</td><td>1</td></tr><tr><td>United States</td><td>Taiwan</td><td>235</td></tr><tr><td>Tunisia</td><td>United States</td><td>3</td></tr><tr><td>United States</td><td>South Africa</td><td>40</td></tr><tr><td>Niger</td><td>United States</td><td>2</td></tr><tr><td>Turkey</td><td>United States</td><td>138</td></tr><tr><td>United Kingdom</td><td>United States</td><td>2025</td></tr><tr><td>Romania</td><td>United States</td><td>14</td></tr><tr><td>United States</td><td>Greenland</td><td>4</td></tr><tr><td>Papua New Guinea</td><td>United States</td><td>3</td></tr><tr><td>United States</td><td>Spain</td><td>442</td></tr><tr><td>Iraq</td><td>United States</td><td>1</td></tr><tr><td>United States</td><td>Italy</td><td>438</td></tr><tr><td>Cuba</td><td>United States</td><td>466</td></tr><tr><td>United States</td><td>Switzerland</td><td>305</td></tr><tr><td>Dominica</td><td>United States</td><td>20</td></tr><tr><td>United States</td><td>Japan</td><td>1496</td></tr><tr><td>Portugal</td><td>United States</td><td>127</td></tr><tr><td>United States</td><td>Brazil</td><td>619</td></tr><tr><td>Bahrain</td><td>United States</td><td>19</td></tr><tr><td>United States</td><td>Peru</td><td>337</td></tr><tr><td>Indonesia</td><td>United States</td><td>1</td></tr><tr><td>United States</td><td>Belize</td><td>193</td></tr><tr><td>United States</td><td>United Kingdom</td><td>1970</td></tr><tr><td>Belize</td><td>United States</td><td>188</td></tr><tr><td>United States</td><td>Ghana</td><td>20</td></tr><tr><td>United States</td><td>Indonesia</td><td>2</td></tr><tr><td>United States</td><td>Fiji</td><td>25</td></tr><tr><td>United States</td><td>Canada</td><td>8483</td></tr><tr><td>United States</td><td>Antigua and Barbuda</td><td>117</td></tr><tr><td>United States</td><td>French Polynesia</td><td>40</td></tr><tr><td>Nicaragua</td><td>United States</td><td>179</td></tr><tr><td>United States</td><td>Latvia</td><td>15</td></tr><tr><td>United States</td><td>Dominica</td><td>27</td></tr><tr><td>United States</td><td>Czech Republic</td><td>12</td></tr><tr><td>United States</td><td>Australia</td><td>258</td></tr><tr><td>United States</td><td>Cook Islands</td><td>13</td></tr><tr><td>Austria</td><td>United States</td><td>62</td></tr><tr><td>Jordan</td><td>United States</td><td>44</td></tr><tr><td>Palau</td><td>United States</td><td>30</td></tr><tr><td>South Korea</td><td>United States</td><td>1048</td></tr><tr><td>Angola</td><td>United States</td><td>15</td></tr><tr><td>Ghana</td><td>United States</td><td>18</td></tr><tr><td>New Caledonia</td><td>United States</td><td>1</td></tr><tr><td>Guadeloupe</td><td>United States</td><td>56</td></tr><tr><td>France</td><td>United States</td><td>935</td></tr><tr><td>Poland</td><td>United States</td><td>32</td></tr><tr><td>Nigeria</td><td>United States</td><td>59</td></tr><tr><td>United States</td><td>Uruguay</td><td>13</td></tr><tr><td>Greenland</td><td>United States</td><td>2</td></tr><tr><td>United States</td><td>Bermuda</td><td>193</td></tr><tr><td>Chile</td><td>United States</td><td>174</td></tr><tr><td>United States</td><td>Cuba</td><td>478</td></tr><tr><td>United States</td><td>Montenegro</td><td>1</td></tr><tr><td>United States</td><td>Colombia</td><td>867</td></tr><tr><td>United States</td><td>Barbados</td><td>130</td></tr><tr><td>United States</td><td>Qatar</td><td>109</td></tr><tr><td>Australia</td><td>United States</td><td>329</td></tr><tr><td>United States</td><td>Cayman Islands</td><td>310</td></tr><tr><td>United States</td><td>Jordan</td><td>44</td></tr><tr><td>United States</td><td>Namibia</td><td>1</td></tr><tr><td>United States</td><td>Trinidad and Tobago</td><td>217</td></tr><tr><td>United States</td><td>Bolivia</td><td>13</td></tr><tr><td>Cook Islands</td><td>United States</td><td>13</td></tr><tr><td>Bulgaria</td><td>United States</td><td>3</td></tr><tr><td>United States</td><td>Saint Kitts and Nevis</td><td>145</td></tr><tr><td>Uruguay</td><td>United States</td><td>43</td></tr><tr><td>United States</td><td>Haiti</td><td>225</td></tr><tr><td>Bonaire, Sint Eustatius, and Saba</td><td>United States</td><td>58</td></tr><tr><td>Greece</td><td>United States</td><td>30</td></tr></tbody></table></div>"
      ]
     },
     "metadata": {
      "application/vnd.databricks.v1+output": {
       "addedWidgets": {},
       "aggData": [],
       "aggError": "",
       "aggOverflow": false,
       "aggSchema": [],
       "aggSeriesLimitReached": false,
       "aggType": "",
       "arguments": {},
       "columnCustomDisplayInfos": {},
       "data": [
        [
         "United States",
         "Romania",
         15
        ],
        [
         "United States",
         "Croatia",
         1
        ],
        [
         "United States",
         "Ireland",
         344
        ],
        [
         "Egypt",
         "United States",
         15
        ],
        [
         "United States",
         "India",
         62
        ],
        [
         "United States",
         "Singapore",
         1
        ],
        [
         "United States",
         "Grenada",
         62
        ],
        [
         "Costa Rica",
         "United States",
         588
        ],
        [
         "Senegal",
         "United States",
         40
        ],
        [
         "Moldova",
         "United States",
         1
        ],
        [
         "United States",
         "Sint Maarten",
         325
        ],
        [
         "United States",
         "Marshall Islands",
         39
        ],
        [
         "Guyana",
         "United States",
         64
        ],
        [
         "Malta",
         "United States",
         1
        ],
        [
         "Anguilla",
         "United States",
         41
        ],
        [
         "Bolivia",
         "United States",
         30
        ],
        [
         "United States",
         "Paraguay",
         6
        ],
        [
         "Algeria",
         "United States",
         4
        ],
        [
         "Turks and Caicos Islands",
         "United States",
         230
        ],
        [
         "United States",
         "Gibraltar",
         1
        ],
        [
         "Saint Vincent and the Grenadines",
         "United States",
         1
        ],
        [
         "Italy",
         "United States",
         382
        ],
        [
         "United States",
         "Federated States of Micronesia",
         69
        ],
        [
         "United States",
         "Russia",
         161
        ],
        [
         "Pakistan",
         "United States",
         12
        ],
        [
         "United States",
         "Netherlands",
         660
        ],
        [
         "Iceland",
         "United States",
         181
        ],
        [
         "Marshall Islands",
         "United States",
         42
        ],
        [
         "Luxembourg",
         "United States",
         155
        ],
        [
         "Honduras",
         "United States",
         362
        ],
        [
         "The Bahamas",
         "United States",
         955
        ],
        [
         "United States",
         "Senegal",
         42
        ],
        [
         "El Salvador",
         "United States",
         561
        ],
        [
         "Samoa",
         "United States",
         25
        ],
        [
         "United States",
         "Angola",
         13
        ],
        [
         "Switzerland",
         "United States",
         294
        ],
        [
         "United States",
         "Anguilla",
         38
        ],
        [
         "Sint Maarten",
         "United States",
         325
        ],
        [
         "Hong Kong",
         "United States",
         332
        ],
        [
         "Trinidad and Tobago",
         "United States",
         211
        ],
        [
         "Latvia",
         "United States",
         19
        ],
        [
         "United States",
         "Ecuador",
         300
        ],
        [
         "Suriname",
         "United States",
         1
        ],
        [
         "Mexico",
         "United States",
         7140
        ],
        [
         "United States",
         "Cyprus",
         1
        ],
        [
         "Ecuador",
         "United States",
         268
        ],
        [
         "United States",
         "Portugal",
         134
        ],
        [
         "United States",
         "Costa Rica",
         608
        ],
        [
         "United States",
         "Guatemala",
         318
        ],
        [
         "United States",
         "Suriname",
         34
        ],
        [
         "Colombia",
         "United States",
         873
        ],
        [
         "United States",
         "Cape Verde",
         14
        ],
        [
         "United States",
         "Jamaica",
         712
        ],
        [
         "Norway",
         "United States",
         121
        ],
        [
         "United States",
         "Malaysia",
         3
        ],
        [
         "United States",
         "Morocco",
         19
        ],
        [
         "Thailand",
         "United States",
         3
        ],
        [
         "United States",
         "Samoa",
         25
        ],
        [
         "Venezuela",
         "United States",
         290
        ],
        [
         "United States",
         "Palau",
         31
        ],
        [
         "United States",
         "Venezuela",
         246
        ],
        [
         "Panama",
         "United States",
         510
        ],
        [
         "Antigua and Barbuda",
         "United States",
         126
        ],
        [
         "United States",
         "Chile",
         185
        ],
        [
         "Morocco",
         "United States",
         15
        ],
        [
         "United States",
         "Finland",
         28
        ],
        [
         "Azerbaijan",
         "United States",
         21
        ],
        [
         "United States",
         "Greece",
         23
        ],
        [
         "United States",
         "The Bahamas",
         986
        ],
        [
         "New Zealand",
         "United States",
         111
        ],
        [
         "Liberia",
         "United States",
         2
        ],
        [
         "United States",
         "Hong Kong",
         414
        ],
        [
         "Hungary",
         "United States",
         2
        ],
        [
         "United States",
         "China",
         920
        ],
        [
         "United States",
         "Vietnam",
         2
        ],
        [
         "Burkina Faso",
         "United States",
         1
        ],
        [
         "Sweden",
         "United States",
         118
        ],
        [
         "United States",
         "Kuwait",
         28
        ],
        [
         "United States",
         "Dominican Republic",
         1420
        ],
        [
         "United States",
         "Egypt",
         12
        ],
        [
         "Israel",
         "United States",
         134
        ],
        [
         "United States",
         "United States",
         370002
        ],
        [
         "Ethiopia",
         "United States",
         13
        ],
        [
         "United States",
         "Luxembourg",
         134
        ],
        [
         "United States",
         "Poland",
         33
        ],
        [
         "Martinique",
         "United States",
         44
        ],
        [
         "United States",
         "Saint Barthelemy",
         41
        ],
        [
         "Saint Barthelemy",
         "United States",
         39
        ],
        [
         "Barbados",
         "United States",
         154
        ],
        [
         "United States",
         "Turkey",
         129
        ],
        [
         "Djibouti",
         "United States",
         1
        ],
        [
         "United States",
         "Azerbaijan",
         21
        ],
        [
         "United States",
         "Estonia",
         1
        ],
        [
         "Germany",
         "United States",
         1468
        ],
        [
         "United States",
         "South Korea",
         827
        ],
        [
         "United States",
         "El Salvador",
         508
        ],
        [
         "Ireland",
         "United States",
         335
        ],
        [
         "United States",
         "Hungary",
         3
        ],
        [
         "Zambia",
         "United States",
         1
        ],
        [
         "Malaysia",
         "United States",
         2
        ],
        [
         "United States",
         "Ethiopia",
         12
        ],
        [
         "United States",
         "Panama",
         465
        ],
        [
         "United States",
         "Aruba",
         342
        ],
        [
         "United States",
         "Thailand",
         4
        ],
        [
         "United States",
         "Turks and Caicos Islands",
         236
        ],
        [
         "Croatia",
         "United States",
         2
        ],
        [
         "United States",
         "Pakistan",
         12
        ],
        [
         "Cyprus",
         "United States",
         1
        ],
        [
         "United States",
         "Honduras",
         407
        ],
        [
         "Fiji",
         "United States",
         24
        ],
        [
         "Qatar",
         "United States",
         108
        ],
        [
         "Saint Kitts and Nevis",
         "United States",
         139
        ],
        [
         "Kuwait",
         "United States",
         32
        ],
        [
         "Taiwan",
         "United States",
         266
        ],
        [
         "Haiti",
         "United States",
         226
        ],
        [
         "Canada",
         "United States",
         8399
        ],
        [
         "Federated States of Micronesia",
         "United States",
         69
        ],
        [
         "United States",
         "Liberia",
         2
        ],
        [
         "Jamaica",
         "United States",
         666
        ],
        [
         "United States",
         "Malta",
         2
        ],
        [
         "Dominican Republic",
         "United States",
         1353
        ],
        [
         "Japan",
         "United States",
         1548
        ],
        [
         "United States",
         "Lithuania",
         1
        ],
        [
         "Finland",
         "United States",
         26
        ],
        [
         "United States",
         "Guadeloupe",
         59
        ],
        [
         "United States",
         "Ukraine",
         13
        ],
        [
         "United States",
         "France",
         952
        ],
        [
         "United States",
         "Norway",
         115
        ],
        [
         "Aruba",
         "United States",
         346
        ],
        [
         "French Guiana",
         "United States",
         5
        ],
        [
         "United States",
         "Kiribati",
         35
        ],
        [
         "India",
         "United States",
         61
        ],
        [
         "British Virgin Islands",
         "United States",
         107
        ],
        [
         "Brazil",
         "United States",
         853
        ],
        [
         "United States",
         "Germany",
         1336
        ],
        [
         "United States",
         "New Zealand",
         74
        ],
        [
         "French Polynesia",
         "United States",
         43
        ],
        [
         "United Arab Emirates",
         "United States",
         320
        ],
        [
         "Singapore",
         "United States",
         3
        ],
        [
         "United States",
         "Mexico",
         7187
        ],
        [
         "United States",
         "Sweden",
         119
        ],
        [
         "Netherlands",
         "United States",
         776
        ],
        [
         "United States",
         "Martinique",
         43
        ],
        [
         "United States",
         "United Arab Emirates",
         313
        ],
        [
         "United States",
         "Bulgaria",
         1
        ],
        [
         "Denmark",
         "United States",
         153
        ],
        [
         "China",
         "United States",
         772
        ],
        [
         "United States",
         "Nicaragua",
         201
        ],
        [
         "United States",
         "Philippines",
         126
        ],
        [
         "United States",
         "Georgia",
         1
        ],
        [
         "United States",
         "Belgium",
         228
        ],
        [
         "Cayman Islands",
         "United States",
         314
        ],
        [
         "Argentina",
         "United States",
         180
        ],
        [
         "Peru",
         "United States",
         279
        ],
        [
         "South Africa",
         "United States",
         36
        ],
        [
         "United States",
         "Iceland",
         202
        ],
        [
         "United States",
         "Argentina",
         141
        ],
        [
         "Spain",
         "United States",
         420
        ],
        [
         "Bermuda",
         "United States",
         183
        ],
        [
         "United States",
         "Nigeria",
         50
        ],
        [
         "United States",
         "Austria",
         63
        ],
        [
         "United States",
         "Bonaire, Sint Eustatius, and Saba",
         59
        ],
        [
         "Kiribati",
         "United States",
         26
        ],
        [
         "Saudi Arabia",
         "United States",
         83
        ],
        [
         "Czech Republic",
         "United States",
         13
        ],
        [
         "United States",
         "Israel",
         127
        ],
        [
         "Belgium",
         "United States",
         259
        ],
        [
         "United States",
         "Saint Lucia",
         136
        ],
        [
         "United States",
         "Bahrain",
         1
        ],
        [
         "United States",
         "British Virgin Islands",
         80
        ],
        [
         "Curacao",
         "United States",
         90
        ],
        [
         "Georgia",
         "United States",
         2
        ],
        [
         "United States",
         "Denmark",
         152
        ],
        [
         "United States",
         "Guyana",
         63
        ],
        [
         "Philippines",
         "United States",
         134
        ],
        [
         "Grenada",
         "United States",
         53
        ],
        [
         "Cape Verde",
         "United States",
         20
        ],
        [
         "Cote d'Ivoire",
         "United States",
         1
        ],
        [
         "Ukraine",
         "United States",
         14
        ],
        [
         "United States",
         "Papua New Guinea",
         1
        ],
        [
         "Russia",
         "United States",
         176
        ],
        [
         "United States",
         "Saudi Arabia",
         70
        ],
        [
         "Guatemala",
         "United States",
         397
        ],
        [
         "Saint Lucia",
         "United States",
         123
        ],
        [
         "Paraguay",
         "United States",
         60
        ],
        [
         "United States",
         "Curacao",
         83
        ],
        [
         "Kosovo",
         "United States",
         1
        ],
        [
         "United States",
         "Taiwan",
         235
        ],
        [
         "Tunisia",
         "United States",
         3
        ],
        [
         "United States",
         "South Africa",
         40
        ],
        [
         "Niger",
         "United States",
         2
        ],
        [
         "Turkey",
         "United States",
         138
        ],
        [
         "United Kingdom",
         "United States",
         2025
        ],
        [
         "Romania",
         "United States",
         14
        ],
        [
         "United States",
         "Greenland",
         4
        ],
        [
         "Papua New Guinea",
         "United States",
         3
        ],
        [
         "United States",
         "Spain",
         442
        ],
        [
         "Iraq",
         "United States",
         1
        ],
        [
         "United States",
         "Italy",
         438
        ],
        [
         "Cuba",
         "United States",
         466
        ],
        [
         "United States",
         "Switzerland",
         305
        ],
        [
         "Dominica",
         "United States",
         20
        ],
        [
         "United States",
         "Japan",
         1496
        ],
        [
         "Portugal",
         "United States",
         127
        ],
        [
         "United States",
         "Brazil",
         619
        ],
        [
         "Bahrain",
         "United States",
         19
        ],
        [
         "United States",
         "Peru",
         337
        ],
        [
         "Indonesia",
         "United States",
         1
        ],
        [
         "United States",
         "Belize",
         193
        ],
        [
         "United States",
         "United Kingdom",
         1970
        ],
        [
         "Belize",
         "United States",
         188
        ],
        [
         "United States",
         "Ghana",
         20
        ],
        [
         "United States",
         "Indonesia",
         2
        ],
        [
         "United States",
         "Fiji",
         25
        ],
        [
         "United States",
         "Canada",
         8483
        ],
        [
         "United States",
         "Antigua and Barbuda",
         117
        ],
        [
         "United States",
         "French Polynesia",
         40
        ],
        [
         "Nicaragua",
         "United States",
         179
        ],
        [
         "United States",
         "Latvia",
         15
        ],
        [
         "United States",
         "Dominica",
         27
        ],
        [
         "United States",
         "Czech Republic",
         12
        ],
        [
         "United States",
         "Australia",
         258
        ],
        [
         "United States",
         "Cook Islands",
         13
        ],
        [
         "Austria",
         "United States",
         62
        ],
        [
         "Jordan",
         "United States",
         44
        ],
        [
         "Palau",
         "United States",
         30
        ],
        [
         "South Korea",
         "United States",
         1048
        ],
        [
         "Angola",
         "United States",
         15
        ],
        [
         "Ghana",
         "United States",
         18
        ],
        [
         "New Caledonia",
         "United States",
         1
        ],
        [
         "Guadeloupe",
         "United States",
         56
        ],
        [
         "France",
         "United States",
         935
        ],
        [
         "Poland",
         "United States",
         32
        ],
        [
         "Nigeria",
         "United States",
         59
        ],
        [
         "United States",
         "Uruguay",
         13
        ],
        [
         "Greenland",
         "United States",
         2
        ],
        [
         "United States",
         "Bermuda",
         193
        ],
        [
         "Chile",
         "United States",
         174
        ],
        [
         "United States",
         "Cuba",
         478
        ],
        [
         "United States",
         "Montenegro",
         1
        ],
        [
         "United States",
         "Colombia",
         867
        ],
        [
         "United States",
         "Barbados",
         130
        ],
        [
         "United States",
         "Qatar",
         109
        ],
        [
         "Australia",
         "United States",
         329
        ],
        [
         "United States",
         "Cayman Islands",
         310
        ],
        [
         "United States",
         "Jordan",
         44
        ],
        [
         "United States",
         "Namibia",
         1
        ],
        [
         "United States",
         "Trinidad and Tobago",
         217
        ],
        [
         "United States",
         "Bolivia",
         13
        ],
        [
         "Cook Islands",
         "United States",
         13
        ],
        [
         "Bulgaria",
         "United States",
         3
        ],
        [
         "United States",
         "Saint Kitts and Nevis",
         145
        ],
        [
         "Uruguay",
         "United States",
         43
        ],
        [
         "United States",
         "Haiti",
         225
        ],
        [
         "Bonaire, Sint Eustatius, and Saba",
         "United States",
         58
        ],
        [
         "Greece",
         "United States",
         30
        ]
       ],
       "datasetInfos": [],
       "dbfsResultPath": null,
       "isJsonSchema": true,
       "metadata": {},
       "overflow": false,
       "plotOptions": {
        "customPlotOptions": {},
        "displayType": "table",
        "pivotAggregation": null,
        "pivotColumns": null,
        "xColumns": null,
        "yColumns": null
       },
       "removedWidgets": [],
       "schema": [
        {
         "metadata": "{}",
         "name": "DEST_COUNTRY_NAME",
         "type": "\"string\""
        },
        {
         "metadata": "{}",
         "name": "ORIGIN_COUNTRY_NAME",
         "type": "\"string\""
        },
        {
         "metadata": "{}",
         "name": "count",
         "type": "\"integer\""
        }
       ],
       "type": "table"
      }
     },
     "output_type": "display_data"
    }
   ],
   "source": [
    "_sqldf.display() #the query results are by default sore in _sql+'var_name' which can again used back by python to perform operations"
   ]
  },
  {
   "cell_type": "markdown",
   "metadata": {
    "application/vnd.databricks.v1+cell": {
     "cellMetadata": {},
     "inputWidgets": {},
     "nuid": "73c0fcf2-4169-4933-aeec-ae2f88ef4de1",
     "showTitle": false,
     "tableResultSettingsMap": {},
     "title": ""
    }
   },
   "source": [
    "### or instead of changing to SQL API we can use spark.sql Funtion in Python adn write SQL query in it"
   ]
  },
  {
   "cell_type": "code",
   "execution_count": 0,
   "metadata": {
    "application/vnd.databricks.v1+cell": {
     "cellMetadata": {
      "byteLimit": 2048000,
      "rowLimit": 10000
     },
     "inputWidgets": {},
     "nuid": "c91a853c-84e6-40d0-8105-86013573c547",
     "showTitle": false,
     "tableResultSettingsMap": {},
     "title": ""
    }
   },
   "outputs": [
    {
     "output_type": "display_data",
     "data": {
      "text/html": [
       "<style scoped>\n",
       "  .table-result-container {\n",
       "    max-height: 300px;\n",
       "    overflow: auto;\n",
       "  }\n",
       "  table, th, td {\n",
       "    border: 1px solid black;\n",
       "    border-collapse: collapse;\n",
       "  }\n",
       "  th, td {\n",
       "    padding: 5px;\n",
       "  }\n",
       "  th {\n",
       "    text-align: left;\n",
       "  }\n",
       "</style><div class='table-result-container'><table class='table-result'><thead style='background-color: white'><tr><th>DEST_COUNTRY_NAME</th><th>count(1)</th></tr></thead><tbody><tr><td>Panama</td><td>1</td></tr><tr><td>Cape Verde</td><td>1</td></tr><tr><td>Hong Kong</td><td>1</td></tr><tr><td>Canada</td><td>1</td></tr><tr><td>Anguilla</td><td>1</td></tr><tr><td>Russia</td><td>1</td></tr><tr><td>Paraguay</td><td>1</td></tr><tr><td>Venezuela</td><td>1</td></tr><tr><td>Finland</td><td>1</td></tr><tr><td>Ukraine</td><td>1</td></tr><tr><td>Iceland</td><td>1</td></tr><tr><td>Samoa</td><td>1</td></tr><tr><td>Israel</td><td>1</td></tr><tr><td>Saint Barthelemy</td><td>1</td></tr><tr><td>New Caledonia</td><td>1</td></tr><tr><td>Czech Republic</td><td>1</td></tr><tr><td>Nicaragua</td><td>1</td></tr><tr><td>Ghana</td><td>1</td></tr><tr><td>Cook Islands</td><td>1</td></tr><tr><td>Saint Kitts and Nevis</td><td>1</td></tr><tr><td>Brazil</td><td>1</td></tr><tr><td>Belize</td><td>1</td></tr><tr><td>Senegal</td><td>1</td></tr><tr><td>Peru</td><td>1</td></tr><tr><td>United States</td><td>125</td></tr><tr><td>Sweden</td><td>1</td></tr><tr><td>India</td><td>1</td></tr><tr><td>China</td><td>1</td></tr><tr><td>Curacao</td><td>1</td></tr><tr><td>French Polynesia</td><td>1</td></tr><tr><td>Kiribati</td><td>1</td></tr><tr><td>Guyana</td><td>1</td></tr><tr><td>Malta</td><td>1</td></tr><tr><td>Antigua and Barbuda</td><td>1</td></tr><tr><td>Kuwait</td><td>1</td></tr><tr><td>South Korea</td><td>1</td></tr><tr><td>Cyprus</td><td>1</td></tr><tr><td>Dominican Republic</td><td>1</td></tr><tr><td>Philippines</td><td>1</td></tr><tr><td>Djibouti</td><td>1</td></tr><tr><td>Marshall Islands</td><td>1</td></tr><tr><td>Malaysia</td><td>1</td></tr><tr><td>Japan</td><td>1</td></tr><tr><td>Singapore</td><td>1</td></tr><tr><td>Uruguay</td><td>1</td></tr><tr><td>Bonaire, Sint Eustatius, and Saba</td><td>1</td></tr><tr><td>Mexico</td><td>1</td></tr><tr><td>Fiji</td><td>1</td></tr><tr><td>Cote d'Ivoire</td><td>1</td></tr><tr><td>Aruba</td><td>1</td></tr><tr><td>Turkey</td><td>1</td></tr><tr><td>Chile</td><td>1</td></tr><tr><td>Martinique</td><td>1</td></tr><tr><td>Luxembourg</td><td>1</td></tr><tr><td>Georgia</td><td>1</td></tr><tr><td>New Zealand</td><td>1</td></tr><tr><td>Indonesia</td><td>1</td></tr><tr><td>Saint Vincent and the Grenadines</td><td>1</td></tr><tr><td>The Bahamas</td><td>1</td></tr><tr><td>Cayman Islands</td><td>1</td></tr><tr><td>Iraq</td><td>1</td></tr><tr><td>Germany</td><td>1</td></tr><tr><td>Greenland</td><td>1</td></tr><tr><td>Croatia</td><td>1</td></tr><tr><td>Haiti</td><td>1</td></tr><tr><td>Guatemala</td><td>1</td></tr><tr><td>Poland</td><td>1</td></tr><tr><td>Bolivia</td><td>1</td></tr><tr><td>Portugal</td><td>1</td></tr><tr><td>Nigeria</td><td>1</td></tr><tr><td>Azerbaijan</td><td>1</td></tr><tr><td>Papua New Guinea</td><td>1</td></tr><tr><td>Jordan</td><td>1</td></tr><tr><td>Australia</td><td>1</td></tr><tr><td>Italy</td><td>1</td></tr><tr><td>Sint Maarten</td><td>1</td></tr><tr><td>Grenada</td><td>1</td></tr><tr><td>Romania</td><td>1</td></tr><tr><td>Federated States of Micronesia</td><td>1</td></tr><tr><td>Bulgaria</td><td>1</td></tr><tr><td>Palau</td><td>1</td></tr><tr><td>Turks and Caicos Islands</td><td>1</td></tr><tr><td>Suriname</td><td>1</td></tr><tr><td>Liberia</td><td>1</td></tr><tr><td>Tunisia</td><td>1</td></tr><tr><td>Austria</td><td>1</td></tr><tr><td>France</td><td>1</td></tr><tr><td>Egypt</td><td>1</td></tr><tr><td>Costa Rica</td><td>1</td></tr><tr><td>Honduras</td><td>1</td></tr><tr><td>El Salvador</td><td>1</td></tr><tr><td>Greece</td><td>1</td></tr><tr><td>Trinidad and Tobago</td><td>1</td></tr><tr><td>Kosovo</td><td>1</td></tr><tr><td>Saudi Arabia</td><td>1</td></tr><tr><td>Norway</td><td>1</td></tr><tr><td>Burkina Faso</td><td>1</td></tr><tr><td>South Africa</td><td>1</td></tr><tr><td>Spain</td><td>1</td></tr><tr><td>Bermuda</td><td>1</td></tr><tr><td>French Guiana</td><td>1</td></tr><tr><td>Cuba</td><td>1</td></tr><tr><td>Bahrain</td><td>1</td></tr><tr><td>Colombia</td><td>1</td></tr><tr><td>Hungary</td><td>1</td></tr><tr><td>Taiwan</td><td>1</td></tr><tr><td>British Virgin Islands</td><td>1</td></tr><tr><td>Dominica</td><td>1</td></tr><tr><td>Guadeloupe</td><td>1</td></tr><tr><td>Switzerland</td><td>1</td></tr><tr><td>Algeria</td><td>1</td></tr><tr><td>Pakistan</td><td>1</td></tr><tr><td>Zambia</td><td>1</td></tr><tr><td>Denmark</td><td>1</td></tr><tr><td>Niger</td><td>1</td></tr><tr><td>Barbados</td><td>1</td></tr><tr><td>Ethiopia</td><td>1</td></tr><tr><td>Latvia</td><td>1</td></tr><tr><td>Jamaica</td><td>1</td></tr><tr><td>United Arab Emirates</td><td>1</td></tr><tr><td>Argentina</td><td>1</td></tr><tr><td>Moldova</td><td>1</td></tr><tr><td>Ireland</td><td>1</td></tr><tr><td>Belgium</td><td>1</td></tr><tr><td>Saint Lucia</td><td>1</td></tr><tr><td>United Kingdom</td><td>1</td></tr><tr><td>Angola</td><td>1</td></tr><tr><td>Thailand</td><td>1</td></tr><tr><td>Netherlands</td><td>1</td></tr><tr><td>Ecuador</td><td>1</td></tr><tr><td>Qatar</td><td>1</td></tr><tr><td>Morocco</td><td>1</td></tr></tbody></table></div>"
      ]
     },
     "metadata": {
      "application/vnd.databricks.v1+output": {
       "addedWidgets": {},
       "aggData": [],
       "aggError": "",
       "aggOverflow": false,
       "aggSchema": [],
       "aggSeriesLimitReached": false,
       "aggType": "",
       "arguments": {},
       "columnCustomDisplayInfos": {},
       "data": [
        [
         "Panama",
         1
        ],
        [
         "Cape Verde",
         1
        ],
        [
         "Hong Kong",
         1
        ],
        [
         "Canada",
         1
        ],
        [
         "Anguilla",
         1
        ],
        [
         "Russia",
         1
        ],
        [
         "Paraguay",
         1
        ],
        [
         "Venezuela",
         1
        ],
        [
         "Finland",
         1
        ],
        [
         "Ukraine",
         1
        ],
        [
         "Iceland",
         1
        ],
        [
         "Samoa",
         1
        ],
        [
         "Israel",
         1
        ],
        [
         "Saint Barthelemy",
         1
        ],
        [
         "New Caledonia",
         1
        ],
        [
         "Czech Republic",
         1
        ],
        [
         "Nicaragua",
         1
        ],
        [
         "Ghana",
         1
        ],
        [
         "Cook Islands",
         1
        ],
        [
         "Saint Kitts and Nevis",
         1
        ],
        [
         "Brazil",
         1
        ],
        [
         "Belize",
         1
        ],
        [
         "Senegal",
         1
        ],
        [
         "Peru",
         1
        ],
        [
         "United States",
         125
        ],
        [
         "Sweden",
         1
        ],
        [
         "India",
         1
        ],
        [
         "China",
         1
        ],
        [
         "Curacao",
         1
        ],
        [
         "French Polynesia",
         1
        ],
        [
         "Kiribati",
         1
        ],
        [
         "Guyana",
         1
        ],
        [
         "Malta",
         1
        ],
        [
         "Antigua and Barbuda",
         1
        ],
        [
         "Kuwait",
         1
        ],
        [
         "South Korea",
         1
        ],
        [
         "Cyprus",
         1
        ],
        [
         "Dominican Republic",
         1
        ],
        [
         "Philippines",
         1
        ],
        [
         "Djibouti",
         1
        ],
        [
         "Marshall Islands",
         1
        ],
        [
         "Malaysia",
         1
        ],
        [
         "Japan",
         1
        ],
        [
         "Singapore",
         1
        ],
        [
         "Uruguay",
         1
        ],
        [
         "Bonaire, Sint Eustatius, and Saba",
         1
        ],
        [
         "Mexico",
         1
        ],
        [
         "Fiji",
         1
        ],
        [
         "Cote d'Ivoire",
         1
        ],
        [
         "Aruba",
         1
        ],
        [
         "Turkey",
         1
        ],
        [
         "Chile",
         1
        ],
        [
         "Martinique",
         1
        ],
        [
         "Luxembourg",
         1
        ],
        [
         "Georgia",
         1
        ],
        [
         "New Zealand",
         1
        ],
        [
         "Indonesia",
         1
        ],
        [
         "Saint Vincent and the Grenadines",
         1
        ],
        [
         "The Bahamas",
         1
        ],
        [
         "Cayman Islands",
         1
        ],
        [
         "Iraq",
         1
        ],
        [
         "Germany",
         1
        ],
        [
         "Greenland",
         1
        ],
        [
         "Croatia",
         1
        ],
        [
         "Haiti",
         1
        ],
        [
         "Guatemala",
         1
        ],
        [
         "Poland",
         1
        ],
        [
         "Bolivia",
         1
        ],
        [
         "Portugal",
         1
        ],
        [
         "Nigeria",
         1
        ],
        [
         "Azerbaijan",
         1
        ],
        [
         "Papua New Guinea",
         1
        ],
        [
         "Jordan",
         1
        ],
        [
         "Australia",
         1
        ],
        [
         "Italy",
         1
        ],
        [
         "Sint Maarten",
         1
        ],
        [
         "Grenada",
         1
        ],
        [
         "Romania",
         1
        ],
        [
         "Federated States of Micronesia",
         1
        ],
        [
         "Bulgaria",
         1
        ],
        [
         "Palau",
         1
        ],
        [
         "Turks and Caicos Islands",
         1
        ],
        [
         "Suriname",
         1
        ],
        [
         "Liberia",
         1
        ],
        [
         "Tunisia",
         1
        ],
        [
         "Austria",
         1
        ],
        [
         "France",
         1
        ],
        [
         "Egypt",
         1
        ],
        [
         "Costa Rica",
         1
        ],
        [
         "Honduras",
         1
        ],
        [
         "El Salvador",
         1
        ],
        [
         "Greece",
         1
        ],
        [
         "Trinidad and Tobago",
         1
        ],
        [
         "Kosovo",
         1
        ],
        [
         "Saudi Arabia",
         1
        ],
        [
         "Norway",
         1
        ],
        [
         "Burkina Faso",
         1
        ],
        [
         "South Africa",
         1
        ],
        [
         "Spain",
         1
        ],
        [
         "Bermuda",
         1
        ],
        [
         "French Guiana",
         1
        ],
        [
         "Cuba",
         1
        ],
        [
         "Bahrain",
         1
        ],
        [
         "Colombia",
         1
        ],
        [
         "Hungary",
         1
        ],
        [
         "Taiwan",
         1
        ],
        [
         "British Virgin Islands",
         1
        ],
        [
         "Dominica",
         1
        ],
        [
         "Guadeloupe",
         1
        ],
        [
         "Switzerland",
         1
        ],
        [
         "Algeria",
         1
        ],
        [
         "Pakistan",
         1
        ],
        [
         "Zambia",
         1
        ],
        [
         "Denmark",
         1
        ],
        [
         "Niger",
         1
        ],
        [
         "Barbados",
         1
        ],
        [
         "Ethiopia",
         1
        ],
        [
         "Latvia",
         1
        ],
        [
         "Jamaica",
         1
        ],
        [
         "United Arab Emirates",
         1
        ],
        [
         "Argentina",
         1
        ],
        [
         "Moldova",
         1
        ],
        [
         "Ireland",
         1
        ],
        [
         "Belgium",
         1
        ],
        [
         "Saint Lucia",
         1
        ],
        [
         "United Kingdom",
         1
        ],
        [
         "Angola",
         1
        ],
        [
         "Thailand",
         1
        ],
        [
         "Netherlands",
         1
        ],
        [
         "Ecuador",
         1
        ],
        [
         "Qatar",
         1
        ],
        [
         "Morocco",
         1
        ]
       ],
       "datasetInfos": [],
       "dbfsResultPath": null,
       "isJsonSchema": true,
       "metadata": {},
       "overflow": false,
       "plotOptions": {
        "customPlotOptions": {},
        "displayType": "table",
        "pivotAggregation": null,
        "pivotColumns": null,
        "xColumns": null,
        "yColumns": null
       },
       "removedWidgets": [],
       "schema": [
        {
         "metadata": "{}",
         "name": "DEST_COUNTRY_NAME",
         "type": "\"string\""
        },
        {
         "metadata": "{\"__autoGeneratedAlias\":\"true\"}",
         "name": "count(1)",
         "type": "\"long\""
        }
       ],
       "type": "table"
      }
     },
     "output_type": "display_data"
    }
   ],
   "source": [
    "sqlWay = spark.sql(\"\"\"\n",
    "SELECT DEST_COUNTRY_NAME, count(*)\n",
    "FROM  df\n",
    "GROUP BY DEST_COUNTRY_NAME\n",
    "\"\"\")\n",
    "sqlWay.display()\n",
    "\n",
    "#SQL APPROACH"
   ]
  },
  {
   "cell_type": "code",
   "execution_count": 0,
   "metadata": {
    "application/vnd.databricks.v1+cell": {
     "cellMetadata": {},
     "inputWidgets": {},
     "nuid": "82cdae7b-bcfc-4bf4-8938-230c3d8d2c9e",
     "showTitle": false,
     "tableResultSettingsMap": {},
     "title": ""
    }
   },
   "outputs": [],
   "source": [
    "#md\n",
    "DATAframe Way in Python-Pyspark"
   ]
  },
  {
   "cell_type": "code",
   "execution_count": 0,
   "metadata": {
    "application/vnd.databricks.v1+cell": {
     "cellMetadata": {
      "byteLimit": 2048000,
      "rowLimit": 10000
     },
     "inputWidgets": {},
     "nuid": "b8c98f49-fdca-4490-85b0-f3cb83fb3918",
     "showTitle": false,
     "tableResultSettingsMap": {},
     "title": ""
    }
   },
   "outputs": [
    {
     "output_type": "display_data",
     "data": {
      "text/html": [
       "<style scoped>\n",
       "  .table-result-container {\n",
       "    max-height: 300px;\n",
       "    overflow: auto;\n",
       "  }\n",
       "  table, th, td {\n",
       "    border: 1px solid black;\n",
       "    border-collapse: collapse;\n",
       "  }\n",
       "  th, td {\n",
       "    padding: 5px;\n",
       "  }\n",
       "  th {\n",
       "    text-align: left;\n",
       "  }\n",
       "</style><div class='table-result-container'><table class='table-result'><thead style='background-color: white'><tr><th>DEST_COUNTRY_NAME</th><th>count</th></tr></thead><tbody><tr><td>Panama</td><td>1</td></tr><tr><td>Cape Verde</td><td>1</td></tr><tr><td>Hong Kong</td><td>1</td></tr><tr><td>Canada</td><td>1</td></tr><tr><td>Anguilla</td><td>1</td></tr><tr><td>Russia</td><td>1</td></tr><tr><td>Paraguay</td><td>1</td></tr><tr><td>Venezuela</td><td>1</td></tr><tr><td>Finland</td><td>1</td></tr><tr><td>Ukraine</td><td>1</td></tr><tr><td>Iceland</td><td>1</td></tr><tr><td>Samoa</td><td>1</td></tr><tr><td>Israel</td><td>1</td></tr><tr><td>Saint Barthelemy</td><td>1</td></tr><tr><td>New Caledonia</td><td>1</td></tr><tr><td>Czech Republic</td><td>1</td></tr><tr><td>Nicaragua</td><td>1</td></tr><tr><td>Ghana</td><td>1</td></tr><tr><td>Cook Islands</td><td>1</td></tr><tr><td>Saint Kitts and Nevis</td><td>1</td></tr><tr><td>Brazil</td><td>1</td></tr><tr><td>Belize</td><td>1</td></tr><tr><td>Senegal</td><td>1</td></tr><tr><td>Peru</td><td>1</td></tr><tr><td>United States</td><td>125</td></tr><tr><td>Sweden</td><td>1</td></tr><tr><td>India</td><td>1</td></tr><tr><td>China</td><td>1</td></tr><tr><td>Curacao</td><td>1</td></tr><tr><td>French Polynesia</td><td>1</td></tr><tr><td>Kiribati</td><td>1</td></tr><tr><td>Guyana</td><td>1</td></tr><tr><td>Malta</td><td>1</td></tr><tr><td>Antigua and Barbuda</td><td>1</td></tr><tr><td>Kuwait</td><td>1</td></tr><tr><td>South Korea</td><td>1</td></tr><tr><td>Cyprus</td><td>1</td></tr><tr><td>Dominican Republic</td><td>1</td></tr><tr><td>Philippines</td><td>1</td></tr><tr><td>Djibouti</td><td>1</td></tr><tr><td>Marshall Islands</td><td>1</td></tr><tr><td>Malaysia</td><td>1</td></tr><tr><td>Japan</td><td>1</td></tr><tr><td>Singapore</td><td>1</td></tr><tr><td>Uruguay</td><td>1</td></tr><tr><td>Bonaire, Sint Eustatius, and Saba</td><td>1</td></tr><tr><td>Mexico</td><td>1</td></tr><tr><td>Fiji</td><td>1</td></tr><tr><td>Cote d'Ivoire</td><td>1</td></tr><tr><td>Aruba</td><td>1</td></tr><tr><td>Turkey</td><td>1</td></tr><tr><td>Chile</td><td>1</td></tr><tr><td>Martinique</td><td>1</td></tr><tr><td>Luxembourg</td><td>1</td></tr><tr><td>Georgia</td><td>1</td></tr><tr><td>New Zealand</td><td>1</td></tr><tr><td>Indonesia</td><td>1</td></tr><tr><td>Saint Vincent and the Grenadines</td><td>1</td></tr><tr><td>The Bahamas</td><td>1</td></tr><tr><td>Cayman Islands</td><td>1</td></tr><tr><td>Iraq</td><td>1</td></tr><tr><td>Germany</td><td>1</td></tr><tr><td>Greenland</td><td>1</td></tr><tr><td>Croatia</td><td>1</td></tr><tr><td>Haiti</td><td>1</td></tr><tr><td>Guatemala</td><td>1</td></tr><tr><td>Poland</td><td>1</td></tr><tr><td>Bolivia</td><td>1</td></tr><tr><td>Portugal</td><td>1</td></tr><tr><td>Nigeria</td><td>1</td></tr><tr><td>Azerbaijan</td><td>1</td></tr><tr><td>Papua New Guinea</td><td>1</td></tr><tr><td>Jordan</td><td>1</td></tr><tr><td>Australia</td><td>1</td></tr><tr><td>Italy</td><td>1</td></tr><tr><td>Sint Maarten</td><td>1</td></tr><tr><td>Grenada</td><td>1</td></tr><tr><td>Romania</td><td>1</td></tr><tr><td>Federated States of Micronesia</td><td>1</td></tr><tr><td>Bulgaria</td><td>1</td></tr><tr><td>Palau</td><td>1</td></tr><tr><td>Turks and Caicos Islands</td><td>1</td></tr><tr><td>Suriname</td><td>1</td></tr><tr><td>Liberia</td><td>1</td></tr><tr><td>Tunisia</td><td>1</td></tr><tr><td>Austria</td><td>1</td></tr><tr><td>France</td><td>1</td></tr><tr><td>Egypt</td><td>1</td></tr><tr><td>Costa Rica</td><td>1</td></tr><tr><td>Honduras</td><td>1</td></tr><tr><td>El Salvador</td><td>1</td></tr><tr><td>Greece</td><td>1</td></tr><tr><td>Trinidad and Tobago</td><td>1</td></tr><tr><td>Kosovo</td><td>1</td></tr><tr><td>Saudi Arabia</td><td>1</td></tr><tr><td>Norway</td><td>1</td></tr><tr><td>Burkina Faso</td><td>1</td></tr><tr><td>South Africa</td><td>1</td></tr><tr><td>Spain</td><td>1</td></tr><tr><td>Bermuda</td><td>1</td></tr><tr><td>French Guiana</td><td>1</td></tr><tr><td>Cuba</td><td>1</td></tr><tr><td>Bahrain</td><td>1</td></tr><tr><td>Colombia</td><td>1</td></tr><tr><td>Hungary</td><td>1</td></tr><tr><td>Taiwan</td><td>1</td></tr><tr><td>British Virgin Islands</td><td>1</td></tr><tr><td>Dominica</td><td>1</td></tr><tr><td>Guadeloupe</td><td>1</td></tr><tr><td>Switzerland</td><td>1</td></tr><tr><td>Algeria</td><td>1</td></tr><tr><td>Pakistan</td><td>1</td></tr><tr><td>Zambia</td><td>1</td></tr><tr><td>Denmark</td><td>1</td></tr><tr><td>Niger</td><td>1</td></tr><tr><td>Barbados</td><td>1</td></tr><tr><td>Ethiopia</td><td>1</td></tr><tr><td>Latvia</td><td>1</td></tr><tr><td>Jamaica</td><td>1</td></tr><tr><td>United Arab Emirates</td><td>1</td></tr><tr><td>Argentina</td><td>1</td></tr><tr><td>Moldova</td><td>1</td></tr><tr><td>Ireland</td><td>1</td></tr><tr><td>Belgium</td><td>1</td></tr><tr><td>Saint Lucia</td><td>1</td></tr><tr><td>United Kingdom</td><td>1</td></tr><tr><td>Angola</td><td>1</td></tr><tr><td>Thailand</td><td>1</td></tr><tr><td>Netherlands</td><td>1</td></tr><tr><td>Ecuador</td><td>1</td></tr><tr><td>Qatar</td><td>1</td></tr><tr><td>Morocco</td><td>1</td></tr></tbody></table></div>"
      ]
     },
     "metadata": {
      "application/vnd.databricks.v1+output": {
       "addedWidgets": {},
       "aggData": [],
       "aggError": "",
       "aggOverflow": false,
       "aggSchema": [],
       "aggSeriesLimitReached": false,
       "aggType": "",
       "arguments": {},
       "columnCustomDisplayInfos": {},
       "data": [
        [
         "Panama",
         1
        ],
        [
         "Cape Verde",
         1
        ],
        [
         "Hong Kong",
         1
        ],
        [
         "Canada",
         1
        ],
        [
         "Anguilla",
         1
        ],
        [
         "Russia",
         1
        ],
        [
         "Paraguay",
         1
        ],
        [
         "Venezuela",
         1
        ],
        [
         "Finland",
         1
        ],
        [
         "Ukraine",
         1
        ],
        [
         "Iceland",
         1
        ],
        [
         "Samoa",
         1
        ],
        [
         "Israel",
         1
        ],
        [
         "Saint Barthelemy",
         1
        ],
        [
         "New Caledonia",
         1
        ],
        [
         "Czech Republic",
         1
        ],
        [
         "Nicaragua",
         1
        ],
        [
         "Ghana",
         1
        ],
        [
         "Cook Islands",
         1
        ],
        [
         "Saint Kitts and Nevis",
         1
        ],
        [
         "Brazil",
         1
        ],
        [
         "Belize",
         1
        ],
        [
         "Senegal",
         1
        ],
        [
         "Peru",
         1
        ],
        [
         "United States",
         125
        ],
        [
         "Sweden",
         1
        ],
        [
         "India",
         1
        ],
        [
         "China",
         1
        ],
        [
         "Curacao",
         1
        ],
        [
         "French Polynesia",
         1
        ],
        [
         "Kiribati",
         1
        ],
        [
         "Guyana",
         1
        ],
        [
         "Malta",
         1
        ],
        [
         "Antigua and Barbuda",
         1
        ],
        [
         "Kuwait",
         1
        ],
        [
         "South Korea",
         1
        ],
        [
         "Cyprus",
         1
        ],
        [
         "Dominican Republic",
         1
        ],
        [
         "Philippines",
         1
        ],
        [
         "Djibouti",
         1
        ],
        [
         "Marshall Islands",
         1
        ],
        [
         "Malaysia",
         1
        ],
        [
         "Japan",
         1
        ],
        [
         "Singapore",
         1
        ],
        [
         "Uruguay",
         1
        ],
        [
         "Bonaire, Sint Eustatius, and Saba",
         1
        ],
        [
         "Mexico",
         1
        ],
        [
         "Fiji",
         1
        ],
        [
         "Cote d'Ivoire",
         1
        ],
        [
         "Aruba",
         1
        ],
        [
         "Turkey",
         1
        ],
        [
         "Chile",
         1
        ],
        [
         "Martinique",
         1
        ],
        [
         "Luxembourg",
         1
        ],
        [
         "Georgia",
         1
        ],
        [
         "New Zealand",
         1
        ],
        [
         "Indonesia",
         1
        ],
        [
         "Saint Vincent and the Grenadines",
         1
        ],
        [
         "The Bahamas",
         1
        ],
        [
         "Cayman Islands",
         1
        ],
        [
         "Iraq",
         1
        ],
        [
         "Germany",
         1
        ],
        [
         "Greenland",
         1
        ],
        [
         "Croatia",
         1
        ],
        [
         "Haiti",
         1
        ],
        [
         "Guatemala",
         1
        ],
        [
         "Poland",
         1
        ],
        [
         "Bolivia",
         1
        ],
        [
         "Portugal",
         1
        ],
        [
         "Nigeria",
         1
        ],
        [
         "Azerbaijan",
         1
        ],
        [
         "Papua New Guinea",
         1
        ],
        [
         "Jordan",
         1
        ],
        [
         "Australia",
         1
        ],
        [
         "Italy",
         1
        ],
        [
         "Sint Maarten",
         1
        ],
        [
         "Grenada",
         1
        ],
        [
         "Romania",
         1
        ],
        [
         "Federated States of Micronesia",
         1
        ],
        [
         "Bulgaria",
         1
        ],
        [
         "Palau",
         1
        ],
        [
         "Turks and Caicos Islands",
         1
        ],
        [
         "Suriname",
         1
        ],
        [
         "Liberia",
         1
        ],
        [
         "Tunisia",
         1
        ],
        [
         "Austria",
         1
        ],
        [
         "France",
         1
        ],
        [
         "Egypt",
         1
        ],
        [
         "Costa Rica",
         1
        ],
        [
         "Honduras",
         1
        ],
        [
         "El Salvador",
         1
        ],
        [
         "Greece",
         1
        ],
        [
         "Trinidad and Tobago",
         1
        ],
        [
         "Kosovo",
         1
        ],
        [
         "Saudi Arabia",
         1
        ],
        [
         "Norway",
         1
        ],
        [
         "Burkina Faso",
         1
        ],
        [
         "South Africa",
         1
        ],
        [
         "Spain",
         1
        ],
        [
         "Bermuda",
         1
        ],
        [
         "French Guiana",
         1
        ],
        [
         "Cuba",
         1
        ],
        [
         "Bahrain",
         1
        ],
        [
         "Colombia",
         1
        ],
        [
         "Hungary",
         1
        ],
        [
         "Taiwan",
         1
        ],
        [
         "British Virgin Islands",
         1
        ],
        [
         "Dominica",
         1
        ],
        [
         "Guadeloupe",
         1
        ],
        [
         "Switzerland",
         1
        ],
        [
         "Algeria",
         1
        ],
        [
         "Pakistan",
         1
        ],
        [
         "Zambia",
         1
        ],
        [
         "Denmark",
         1
        ],
        [
         "Niger",
         1
        ],
        [
         "Barbados",
         1
        ],
        [
         "Ethiopia",
         1
        ],
        [
         "Latvia",
         1
        ],
        [
         "Jamaica",
         1
        ],
        [
         "United Arab Emirates",
         1
        ],
        [
         "Argentina",
         1
        ],
        [
         "Moldova",
         1
        ],
        [
         "Ireland",
         1
        ],
        [
         "Belgium",
         1
        ],
        [
         "Saint Lucia",
         1
        ],
        [
         "United Kingdom",
         1
        ],
        [
         "Angola",
         1
        ],
        [
         "Thailand",
         1
        ],
        [
         "Netherlands",
         1
        ],
        [
         "Ecuador",
         1
        ],
        [
         "Qatar",
         1
        ],
        [
         "Morocco",
         1
        ]
       ],
       "datasetInfos": [],
       "dbfsResultPath": null,
       "isJsonSchema": true,
       "metadata": {},
       "overflow": false,
       "plotOptions": {
        "customPlotOptions": {},
        "displayType": "table",
        "pivotAggregation": null,
        "pivotColumns": null,
        "xColumns": null,
        "yColumns": null
       },
       "removedWidgets": [],
       "schema": [
        {
         "metadata": "{}",
         "name": "DEST_COUNTRY_NAME",
         "type": "\"string\""
        },
        {
         "metadata": "{}",
         "name": "count",
         "type": "\"long\""
        }
       ],
       "type": "table"
      }
     },
     "output_type": "display_data"
    }
   ],
   "source": [
    "dataFrameWay = df.groupBy(\"DEST_COUNTRY_NAME\").count()\n",
    "\n",
    "dataFrameWay.display()"
   ]
  },
  {
   "cell_type": "markdown",
   "metadata": {
    "application/vnd.databricks.v1+cell": {
     "cellMetadata": {},
     "inputWidgets": {},
     "nuid": "a0dba140-b423-44d9-9c9a-3652933b0b09",
     "showTitle": false,
     "tableResultSettingsMap": {},
     "title": ""
    }
   },
   "source": [
    "\n",
    "From above it can be seen that both follow same appraoch by providing Identical results can be verified using Explain ()\n"
   ]
  },
  {
   "cell_type": "code",
   "execution_count": 0,
   "metadata": {
    "application/vnd.databricks.v1+cell": {
     "cellMetadata": {
      "byteLimit": 2048000,
      "rowLimit": 10000
     },
     "inputWidgets": {},
     "nuid": "2a0f378c-42fc-405a-bbd0-5039b24288e1",
     "showTitle": false,
     "tableResultSettingsMap": {},
     "title": ""
    }
   },
   "outputs": [
    {
     "output_type": "stream",
     "name": "stdout",
     "output_type": "stream",
     "text": [
      "== Physical Plan ==\nAdaptiveSparkPlan isFinalPlan=false\n+- HashAggregate(keys=[DEST_COUNTRY_NAME#200], functions=[finalmerge_count(merge count#553L) AS count(1)#546L])\n   +- Exchange hashpartitioning(DEST_COUNTRY_NAME#200, 50), ENSURE_REQUIREMENTS, [plan_id=961]\n      +- HashAggregate(keys=[DEST_COUNTRY_NAME#200], functions=[partial_count(1) AS count#553L])\n         +- FileScan csv [DEST_COUNTRY_NAME#200] Batched: false, DataFilters: [], Format: CSV, Location: InMemoryFileIndex(1 paths)[dbfs:/FileStore/tables/2015_summary.csv], PartitionFilters: [], PushedFilters: [], ReadSchema: struct<DEST_COUNTRY_NAME:string>\n\n\n"
     ]
    }
   ],
   "source": [
    "sqlWay.explain()\n"
   ]
  },
  {
   "cell_type": "code",
   "execution_count": 0,
   "metadata": {
    "application/vnd.databricks.v1+cell": {
     "cellMetadata": {
      "byteLimit": 2048000,
      "rowLimit": 10000
     },
     "inputWidgets": {},
     "nuid": "e246e0f7-f855-4863-a005-ed3b85a46f17",
     "showTitle": false,
     "tableResultSettingsMap": {},
     "title": ""
    }
   },
   "outputs": [
    {
     "output_type": "stream",
     "name": "stdout",
     "output_type": "stream",
     "text": [
      "== Physical Plan ==\nAdaptiveSparkPlan isFinalPlan=true\n+- == Final Plan ==\n   *(2) HashAggregate(keys=[DEST_COUNTRY_NAME#200], functions=[finalmerge_count(merge count#569L) AS count(1)#562L])\n   +- AQEShuffleRead coalesced\n      +- ShuffleQueryStage 0, Statistics(sizeInBytes=4.6 KiB, rowCount=132, isRuntime=true)\n         +- Exchange hashpartitioning(DEST_COUNTRY_NAME#200, 50), ENSURE_REQUIREMENTS, [plan_id=804]\n            +- *(1) HashAggregate(keys=[DEST_COUNTRY_NAME#200], functions=[partial_count(1) AS count#569L])\n               +- FileScan csv [DEST_COUNTRY_NAME#200] Batched: false, DataFilters: [], Format: CSV, Location: InMemoryFileIndex(1 paths)[dbfs:/FileStore/tables/2015_summary.csv], PartitionFilters: [], PushedFilters: [], ReadSchema: struct<DEST_COUNTRY_NAME:string>\n+- == Initial Plan ==\n   HashAggregate(keys=[DEST_COUNTRY_NAME#200], functions=[finalmerge_count(merge count#569L) AS count(1)#562L])\n   +- Exchange hashpartitioning(DEST_COUNTRY_NAME#200, 50), ENSURE_REQUIREMENTS, [plan_id=791]\n      +- HashAggregate(keys=[DEST_COUNTRY_NAME#200], functions=[partial_count(1) AS count#569L])\n         +- FileScan csv [DEST_COUNTRY_NAME#200] Batched: false, DataFilters: [], Format: CSV, Location: InMemoryFileIndex(1 paths)[dbfs:/FileStore/tables/2015_summary.csv], PartitionFilters: [], PushedFilters: [], ReadSchema: struct<DEST_COUNTRY_NAME:string>\n\n\n"
     ]
    }
   ],
   "source": [
    "dataFrameWay.explain()"
   ]
  },
  {
   "cell_type": "markdown",
   "metadata": {
    "application/vnd.databricks.v1+cell": {
     "cellMetadata": {},
     "inputWidgets": {},
     "nuid": "965eba60-5cdc-4c05-be9b-68e479265cfa",
     "showTitle": false,
     "tableResultSettingsMap": {},
     "title": ""
    }
   },
   "source": [
    "Directed Acyclic Graph (DAG): - > How Spark represents the sequence of transformations"
   ]
  }
 ],
 "metadata": {
  "application/vnd.databricks.v1+notebook": {
   "computePreferences": null,
   "dashboards": [],
   "environmentMetadata": {
    "base_environment": "",
    "client": "1"
   },
   "language": "python",
   "notebookMetadata": {
    "mostRecentlyExecutedCommandWithImplicitDF": {
     "commandId": 3337392767031557,
     "dataframes": [
      "_sqldf"
     ]
    },
    "pythonIndentUnit": 4
   },
   "notebookName": "Spark Guide Practice",
   "widgets": {}
  }
 },
 "nbformat": 4,
 "nbformat_minor": 0
}
